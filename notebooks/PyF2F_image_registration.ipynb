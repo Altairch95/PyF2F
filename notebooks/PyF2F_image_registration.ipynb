{
 "cells": [
  {
   "cell_type": "markdown",
   "id": "ecec9cb8",
   "metadata": {},
   "source": [
    "<center><h1> PyF2F - Image Registration Notebook </h1></center>"
   ]
  },
  {
   "cell_type": "markdown",
   "id": "e3174a8b",
   "metadata": {},
   "source": [
    "To achieve accurate distance measurements between two fluorophores that emit at different wavelengths, it is crucial to register the positions of the two fluorophores obtained in the two channels. This notebook runs the functionalities of PyF2F to calculate the chromatic shift between the two color positions (corresponding to the the two channels) over the entire field of view at the nanometer scale."
   ]
  },
  {
   "cell_type": "markdown",
   "id": "4e1603ef",
   "metadata": {},
   "source": [
    "### Scientific IPython Setup\n",
    "\n",
    "Before starting, we need to :\n",
    "1. Scientific IPython Setup\n",
    "2. Set parameters to run the image registration workflow\n",
    "3. Set paths to working directories"
   ]
  },
  {
   "cell_type": "markdown",
   "id": "6df2d92b",
   "metadata": {},
   "source": [
    "<h3>1. Scientific IPython Setup </h3>\n",
    "\n",
    "Load some required scientific Python libraries:"
   ]
  },
  {
   "cell_type": "code",
   "execution_count": 1,
   "id": "a842857e",
   "metadata": {},
   "outputs": [],
   "source": [
    "%load_ext autoreload\n",
    "%autoreload 2\n",
    "%matplotlib agg\n",
    "import os\n",
    "import glob\n",
    "import shutil\n",
    "import sys\n",
    "import time\n",
    "import pandas as pd\n",
    "import numpy as np\n",
    "import trackpy as tp\n",
    "import pims\n",
    "import matplotlib.pyplot as plt\n",
    "import seaborn as sns\n",
    "import plotly.express as px\n",
    "import plotly.graph_objects as go\n",
    "import tkinter as tk\n",
    "from tkinter import filedialog\n",
    "from skimage import io, util\n",
    "from skimage import data\n",
    "from scipy import stats\n",
    "from scipy import spatial\n",
    "from pymicro.view.vol_utils import compute_affine_transform\n",
    "from matplotlib import rcParams"
   ]
  },
  {
   "cell_type": "markdown",
   "id": "3ebc73c9",
   "metadata": {},
   "source": [
    "as well as PyF2F-Ruler's custom functions:"
   ]
  },
  {
   "cell_type": "code",
   "execution_count": 2,
   "id": "ce3c7b0f",
   "metadata": {},
   "outputs": [],
   "source": [
    "# Append PyF2F scripts path and import functions\n",
    "sys.path.append('/'.join(os.getcwd().split(\"/\")[:-1]) + '/scripts/')\n",
    "from detect_beads import *\n",
    "%aimport detect_beads"
   ]
  },
  {
   "cell_type": "markdown",
   "id": "366a5513",
   "metadata": {},
   "source": [
    "<h3>2. Parameters for Image Registration </h3>\n",
    "\n",
    "Now, we have to set the **parameters** to run the image registration workflow. PyF2F calculates the registration map between the two channels using a *piecewise affine transformation*, correcting spot positions locally using nearby fiducial points.\n",
    "\n",
    "Important parameters here are the **pixel size** of the camera (*nm/px*) and the **spot diameter** (aproximate the spot size to the PSF of the microscope, actually the diameter should approximate twice the PSF of the microscope). \n",
    "\n",
    "The rest of the parameters help to optimize the spot detection based on intensity filters such as the **percentile** (detecting spots above a given percentile), the **mass (integrated brightness)**  (avoiding selecting low-intense spots or too high-intense spots (such as bead aggreagates). Moreover, since the local affine correction is based on a nearest-neighbor search, two parameters can influence the registration outcome: minimum number of fiducial points (**min_fiducials ~ 100**) and maximum distance to the coordinate to correct (**search_range ~ 2 $\\mu m$**)."
   ]
  },
  {
   "cell_type": "code",
   "execution_count": 8,
   "id": "0a30a723",
   "metadata": {},
   "outputs": [],
   "source": [
    "beads_head = \"*.tif\"            # Beads_head (pattern in bead images)\n",
    "px_size = 64.5                   # Zyla camera (64.5 nm/px) // Prime camera (110 nm/px) \n",
    "db_PSF = 700                    # Double size of the PSF to calculate the spot diameter\n",
    "if px_size == 64.5:             # spot detection: diameter of spots in px\n",
    "    spot_diameter = 11          # Spot size Zyla\n",
    "elif px_size == 110:\n",
    "    spot_diameter = 7           # Spot size Prime\n",
    "percentile = 99.8               # spot detection: sort spots below this percentile of intensity \n",
    "min_mass = 0.01                 # spot detection: sort spots with a mass above this threshold (range 0-1). \n",
    "max_mass = 0.95                 # spot detection: sort spots with a mass below this threshold (range 0-1).\n",
    "max_displacement=1              # linking: link spots from ch1-ch2 channels separated by this cutoff in px\n",
    "search_range = 2000 // px_size  # local registration: max distance in px for nearest-neighbour search\n",
    "min_fiducials = 10              # local registration: minimum number of fiducial markers to correct locally "
   ]
  },
  {
   "cell_type": "code",
   "execution_count": 9,
   "id": "20bd46fb",
   "metadata": {},
   "outputs": [
    {
     "data": {
      "text/plain": [
       "11"
      ]
     },
     "execution_count": 9,
     "metadata": {},
     "output_type": "execute_result"
    }
   ],
   "source": [
    "spot_diameter"
   ]
  },
  {
   "cell_type": "markdown",
   "id": "e1d1916c",
   "metadata": {},
   "source": [
    "<h3>3. Set paths to your working directories </h3>\n",
    "\n",
    "The last thing to go is setting the paths to the working directories. At least we should have two different directories:\n",
    "\n",
    "- Directory with beads images to create the registration map (Beads_reg)\n",
    "- Directory with beads images to calculate the error of registration (Beads_test)\n",
    "- Diretory to output of registration\n",
    "- Directory to outout of test"
   ]
  },
  {
   "cell_type": "code",
   "execution_count": 18,
   "id": "a57513dd",
   "metadata": {},
   "outputs": [],
   "source": [
    "# Select directories where Beads_reg and Beads_test\n",
    "root = tk.Tk()\n",
    "root.withdraw()\n",
    "path_beads_reg = filedialog.askdirectory(title=\"Select Directory Beads Registration\") + \"/\"\n",
    "path_beads_test = filedialog.askdirectory(title=\"Select Directory Beads Test\") + \"/\"\n",
    "\n",
    "# Create directories for output\n",
    "path_output_reg = \"/\".join(path_beads_reg.split(\"/\")[:-2]) + \"/output_reg/\"\n",
    "path_output_test = \"/\".join(path_beads_reg.split(\"/\")[:-2]) + \"/output_test/\"\n",
    "if not os.path.exists(path_output_reg):\n",
    "    os.mkdir(path_output_reg)\n",
    "    \n",
    "if not os.path.exists(path_output_test):\n",
    "    os.mkdir(path_output_test)"
   ]
  },
  {
   "cell_type": "code",
   "execution_count": 19,
   "id": "c1db7321",
   "metadata": {},
   "outputs": [
    {
     "name": "stdout",
     "output_type": "stream",
     "text": [
      "Your Paths: \n",
      " -Beads_Reg directory: /home/altair/PycharmProjects/book_chapter_local_affine/Beads_230523/images_reg/\n",
      " -Beads_Test directory: /home/altair/PycharmProjects/book_chapter_local_affine/Beads_230523/images_test/\n",
      " -Output_Reg directory: /home/altair/PycharmProjects/book_chapter_local_affine/Beads_230523/output_reg/\n",
      " -Output_Test directory: /home/altair/PycharmProjects/book_chapter_local_affine/Beads_230523/output_test/\n",
      "\n"
     ]
    }
   ],
   "source": [
    "print(\"Your Paths: \\n\"\n",
    "          \" -Beads_Reg directory: {}\\n\"\n",
    "          \" -Beads_Test directory: {}\\n\"\n",
    "          \" -Output_Reg directory: {}\\n\"\n",
    "          \" -Output_Test directory: {}\\n\".format(path_beads_reg,\n",
    "                                                 path_beads_test,\n",
    "                                                 path_output_reg,\n",
    "                                                 path_output_test))                                                 "
   ]
  },
  {
   "cell_type": "markdown",
   "id": "d91c6884",
   "metadata": {},
   "source": [
    "Now, we can calculate the Target Registration Error (TRE)."
   ]
  },
  {
   "cell_type": "markdown",
   "id": "27f4fc76",
   "metadata": {},
   "source": [
    "## Calculate TRE"
   ]
  },
  {
   "cell_type": "markdown",
   "id": "a1386aab",
   "metadata": {},
   "source": [
    "<h3>Step 1</h3>\n",
    "\n",
    "Get two channels (c1-c2) coordinates from the two sets of beads to a) calculate the registration map (REF) and b) to calculate the TRE (TEST). If the coordinates have been previously calculated, then are loaded from the saved CSV files in the \"output_reg\" and \"output_test\" directories."
   ]
  },
  {
   "cell_type": "code",
   "execution_count": 20,
   "id": "16b3e97f",
   "metadata": {
    "scrolled": true
   },
   "outputs": [
    {
     "name": "stderr",
     "output_type": "stream",
     "text": [
      "OME series: failed to read 'T0_10x10_1_MMStack_2-Pos005_000.ome.tif'\n",
      "OME series: failed to read 'T0_10x10_1_MMStack_2-Pos005_000.ome.tif'\n",
      "OME series: failed to read 'T0_10x10_1_MMStack_2-Pos006_000.ome.tif'\n",
      "OME series: failed to read 'T0_10x10_1_MMStack_2-Pos006_000.ome.tif'\n",
      "OME series: failed to read 'T0_10x10_1_MMStack_2-Pos007_000.ome.tif'\n",
      "OME series: failed to read 'T0_10x10_1_MMStack_2-Pos007_000.ome.tif'\n",
      "OME series: failed to read 'T0_10x10_1_MMStack_2-Pos008_000.ome.tif'\n",
      "OME series: failed to read 'T0_10x10_1_MMStack_2-Pos008_000.ome.tif'\n",
      "OME series: failed to read 'T0_10x10_1_MMStack_2-Pos009_000.ome.tif'\n",
      "OME series: failed to read 'T0_10x10_1_MMStack_2-Pos009_000.ome.tif'\n",
      "OME series: failed to read 'T0_10x10_1_MMStack_2-Pos009_001.ome.tif'\n",
      "OME series: failed to read 'T0_10x10_1_MMStack_2-Pos009_001.ome.tif'\n",
      "OME series: failed to read 'T0_10x10_1_MMStack_2-Pos008_001.ome.tif'\n",
      "OME series: failed to read 'T0_10x10_1_MMStack_2-Pos008_001.ome.tif'\n",
      "OME series: failed to read 'T0_10x10_1_MMStack_2-Pos007_001.ome.tif'\n",
      "OME series: failed to read 'T0_10x10_1_MMStack_2-Pos007_001.ome.tif'\n",
      "OME series: failed to read 'T0_10x10_1_MMStack_2-Pos006_001.ome.tif'\n",
      "OME series: failed to read 'T0_10x10_1_MMStack_2-Pos006_001.ome.tif'\n",
      "OME series: failed to read 'T0_10x10_1_MMStack_2-Pos005_001.ome.tif'\n",
      "OME series: failed to read 'T0_10x10_1_MMStack_2-Pos005_001.ome.tif'\n",
      "OME series: failed to read 'T0_10x10_1_MMStack_2-Pos005_002.ome.tif'\n",
      "OME series: failed to read 'T0_10x10_1_MMStack_2-Pos005_002.ome.tif'\n",
      "OME series: failed to read 'T0_10x10_1_MMStack_2-Pos006_002.ome.tif'\n",
      "OME series: failed to read 'T0_10x10_1_MMStack_2-Pos006_002.ome.tif'\n",
      "OME series: failed to read 'T0_10x10_1_MMStack_2-Pos007_002.ome.tif'\n",
      "OME series: failed to read 'T0_10x10_1_MMStack_2-Pos007_002.ome.tif'\n",
      "OME series: failed to read 'T0_10x10_1_MMStack_2-Pos008_002.ome.tif'\n",
      "OME series: failed to read 'T0_10x10_1_MMStack_2-Pos008_002.ome.tif'\n",
      "OME series: failed to read 'T0_10x10_1_MMStack_2-Pos009_002.ome.tif'\n",
      "OME series: failed to read 'T0_10x10_1_MMStack_2-Pos009_002.ome.tif'\n",
      "OME series: failed to read 'T0_10x10_1_MMStack_2-Pos009_003.ome.tif'\n",
      "OME series: failed to read 'T0_10x10_1_MMStack_2-Pos009_003.ome.tif'\n",
      "OME series: failed to read 'T0_10x10_1_MMStack_2-Pos008_003.ome.tif'\n",
      "OME series: failed to read 'T0_10x10_1_MMStack_2-Pos008_003.ome.tif'\n",
      "OME series: failed to read 'T0_10x10_1_MMStack_2-Pos007_003.ome.tif'\n",
      "OME series: failed to read 'T0_10x10_1_MMStack_2-Pos007_003.ome.tif'\n",
      "OME series: failed to read 'T0_10x10_1_MMStack_2-Pos006_003.ome.tif'\n",
      "OME series: failed to read 'T0_10x10_1_MMStack_2-Pos006_003.ome.tif'\n",
      "OME series: failed to read 'T0_10x10_1_MMStack_2-Pos005_003.ome.tif'\n",
      "OME series: failed to read 'T0_10x10_1_MMStack_2-Pos005_003.ome.tif'\n",
      "OME series: failed to read 'T0_10x10_1_MMStack_2-Pos005_004.ome.tif'\n",
      "OME series: failed to read 'T0_10x10_1_MMStack_2-Pos005_004.ome.tif'\n",
      "OME series: failed to read 'T0_10x10_1_MMStack_2-Pos006_004.ome.tif'\n",
      "OME series: failed to read 'T0_10x10_1_MMStack_2-Pos006_004.ome.tif'\n",
      "OME series: failed to read 'T0_10x10_1_MMStack_2-Pos007_004.ome.tif'\n",
      "OME series: failed to read 'T0_10x10_1_MMStack_2-Pos007_004.ome.tif'\n",
      "OME series: failed to read 'T0_10x10_1_MMStack_2-Pos008_004.ome.tif'\n",
      "OME series: failed to read 'T0_10x10_1_MMStack_2-Pos008_004.ome.tif'\n",
      "OME series: failed to read 'T0_10x10_1_MMStack_2-Pos009_004.ome.tif'\n",
      "OME series: failed to read 'T0_10x10_1_MMStack_2-Pos009_004.ome.tif'\n",
      "OME series: failed to read 'T0_10x10_1_MMStack_2-Pos009_005.ome.tif'\n",
      "OME series: failed to read 'T0_10x10_1_MMStack_2-Pos009_005.ome.tif'\n",
      "OME series: failed to read 'T0_10x10_1_MMStack_2-Pos008_005.ome.tif'\n",
      "OME series: failed to read 'T0_10x10_1_MMStack_2-Pos008_005.ome.tif'\n",
      "OME series: failed to read 'T0_10x10_1_MMStack_2-Pos007_005.ome.tif'\n",
      "OME series: failed to read 'T0_10x10_1_MMStack_2-Pos007_005.ome.tif'\n",
      "OME series: failed to read 'T0_10x10_1_MMStack_2-Pos006_005.ome.tif'\n",
      "OME series: failed to read 'T0_10x10_1_MMStack_2-Pos006_005.ome.tif'\n",
      "OME series: failed to read 'T0_10x10_1_MMStack_2-Pos005_005.ome.tif'\n",
      "OME series: failed to read 'T0_10x10_1_MMStack_2-Pos005_005.ome.tif'\n",
      "OME series: failed to read 'T0_10x10_1_MMStack_2-Pos005_006.ome.tif'\n",
      "OME series: failed to read 'T0_10x10_1_MMStack_2-Pos005_006.ome.tif'\n",
      "OME series: failed to read 'T0_10x10_1_MMStack_2-Pos006_006.ome.tif'\n",
      "OME series: failed to read 'T0_10x10_1_MMStack_2-Pos006_006.ome.tif'\n",
      "OME series: failed to read 'T0_10x10_1_MMStack_2-Pos007_006.ome.tif'\n",
      "OME series: failed to read 'T0_10x10_1_MMStack_2-Pos007_006.ome.tif'\n",
      "OME series: failed to read 'T0_10x10_1_MMStack_2-Pos008_006.ome.tif'\n",
      "OME series: failed to read 'T0_10x10_1_MMStack_2-Pos008_006.ome.tif'\n",
      "OME series: failed to read 'T0_10x10_1_MMStack_2-Pos009_006.ome.tif'\n",
      "OME series: failed to read 'T0_10x10_1_MMStack_2-Pos009_006.ome.tif'\n",
      "OME series: failed to read 'T0_10x10_1_MMStack_2-Pos009_007.ome.tif'\n",
      "OME series: failed to read 'T0_10x10_1_MMStack_2-Pos009_007.ome.tif'\n",
      "OME series: failed to read 'T0_10x10_1_MMStack_2-Pos008_007.ome.tif'\n",
      "OME series: failed to read 'T0_10x10_1_MMStack_2-Pos008_007.ome.tif'\n",
      "OME series: failed to read 'T0_10x10_1_MMStack_2-Pos007_007.ome.tif'\n",
      "OME series: failed to read 'T0_10x10_1_MMStack_2-Pos007_007.ome.tif'\n",
      "OME series: failed to read 'T0_10x10_1_MMStack_2-Pos006_007.ome.tif'\n",
      "OME series: failed to read 'T0_10x10_1_MMStack_2-Pos006_007.ome.tif'\n",
      "OME series: failed to read 'T0_10x10_1_MMStack_2-Pos005_007.ome.tif'\n",
      "OME series: failed to read 'T0_10x10_1_MMStack_2-Pos005_007.ome.tif'\n",
      "OME series: failed to read 'T0_10x10_1_MMStack_2-Pos005_008.ome.tif'\n",
      "OME series: failed to read 'T0_10x10_1_MMStack_2-Pos005_008.ome.tif'\n",
      "OME series: failed to read 'T0_10x10_1_MMStack_2-Pos006_008.ome.tif'\n",
      "OME series: failed to read 'T0_10x10_1_MMStack_2-Pos006_008.ome.tif'\n",
      "OME series: failed to read 'T0_10x10_1_MMStack_2-Pos007_008.ome.tif'\n",
      "OME series: failed to read 'T0_10x10_1_MMStack_2-Pos007_008.ome.tif'\n",
      "OME series: failed to read 'T0_10x10_1_MMStack_2-Pos008_008.ome.tif'\n",
      "OME series: failed to read 'T0_10x10_1_MMStack_2-Pos008_008.ome.tif'\n",
      "OME series: failed to read 'T0_10x10_1_MMStack_2-Pos009_008.ome.tif'\n",
      "OME series: failed to read 'T0_10x10_1_MMStack_2-Pos009_008.ome.tif'\n",
      "OME series: failed to read 'T0_10x10_1_MMStack_2-Pos009_009.ome.tif'\n",
      "OME series: failed to read 'T0_10x10_1_MMStack_2-Pos009_009.ome.tif'\n",
      "OME series: failed to read 'T0_10x10_1_MMStack_2-Pos008_009.ome.tif'\n",
      "OME series: failed to read 'T0_10x10_1_MMStack_2-Pos008_009.ome.tif'\n",
      "OME series: failed to read 'T0_10x10_1_MMStack_2-Pos007_009.ome.tif'\n",
      "OME series: failed to read 'T0_10x10_1_MMStack_2-Pos007_009.ome.tif'\n",
      "OME series: failed to read 'T0_10x10_1_MMStack_2-Pos006_009.ome.tif'\n",
      "OME series: failed to read 'T0_10x10_1_MMStack_2-Pos006_009.ome.tif'\n",
      "OME series: failed to read 'T0_10x10_1_MMStack_2-Pos005_009.ome.tif'\n",
      "OME series: failed to read 'T0_10x10_1_MMStack_2-Pos005_009.ome.tif'\n",
      "OME series: failed to read 'T0_10x10_1_MMStack_2-Pos005_000.ome.tif'\n",
      "OME series: failed to read 'T0_10x10_1_MMStack_2-Pos005_000.ome.tif'\n",
      "OME series: failed to read 'T0_10x10_1_MMStack_2-Pos006_000.ome.tif'\n",
      "OME series: failed to read 'T0_10x10_1_MMStack_2-Pos006_000.ome.tif'\n",
      "OME series: failed to read 'T0_10x10_1_MMStack_2-Pos007_000.ome.tif'\n",
      "OME series: failed to read 'T0_10x10_1_MMStack_2-Pos007_000.ome.tif'\n",
      "OME series: failed to read 'T0_10x10_1_MMStack_2-Pos008_000.ome.tif'\n",
      "OME series: failed to read 'T0_10x10_1_MMStack_2-Pos008_000.ome.tif'\n",
      "OME series: failed to read 'T0_10x10_1_MMStack_2-Pos009_000.ome.tif'\n",
      "OME series: failed to read 'T0_10x10_1_MMStack_2-Pos009_000.ome.tif'\n",
      "OME series: failed to read 'T0_10x10_1_MMStack_2-Pos009_001.ome.tif'\n",
      "OME series: failed to read 'T0_10x10_1_MMStack_2-Pos009_001.ome.tif'\n",
      "OME series: failed to read 'T0_10x10_1_MMStack_2-Pos008_001.ome.tif'\n",
      "OME series: failed to read 'T0_10x10_1_MMStack_2-Pos008_001.ome.tif'\n",
      "OME series: failed to read 'T0_10x10_1_MMStack_2-Pos007_001.ome.tif'\n",
      "OME series: failed to read 'T0_10x10_1_MMStack_2-Pos007_001.ome.tif'\n",
      "OME series: failed to read 'T0_10x10_1_MMStack_2-Pos006_001.ome.tif'\n",
      "OME series: failed to read 'T0_10x10_1_MMStack_2-Pos006_001.ome.tif'\n",
      "OME series: failed to read 'T0_10x10_1_MMStack_2-Pos005_001.ome.tif'\n",
      "OME series: failed to read 'T0_10x10_1_MMStack_2-Pos005_001.ome.tif'\n"
     ]
    },
    {
     "name": "stdout",
     "output_type": "stream",
     "text": [
      "\n",
      "#############################\n",
      "     BEADS REGISTRATION \n",
      "#############################\n",
      "\n",
      "\n",
      "\n",
      "\tProcessing image T0_10x10_1_MMStack_2-Pos000_000\n",
      "\n"
     ]
    },
    {
     "name": "stderr",
     "output_type": "stream",
     "text": [
      "OME series: failed to read 'T0_10x10_1_MMStack_2-Pos005_002.ome.tif'\n",
      "OME series: failed to read 'T0_10x10_1_MMStack_2-Pos005_002.ome.tif'\n",
      "OME series: failed to read 'T0_10x10_1_MMStack_2-Pos006_002.ome.tif'\n",
      "OME series: failed to read 'T0_10x10_1_MMStack_2-Pos006_002.ome.tif'\n",
      "OME series: failed to read 'T0_10x10_1_MMStack_2-Pos007_002.ome.tif'\n",
      "OME series: failed to read 'T0_10x10_1_MMStack_2-Pos007_002.ome.tif'\n",
      "OME series: failed to read 'T0_10x10_1_MMStack_2-Pos008_002.ome.tif'\n",
      "OME series: failed to read 'T0_10x10_1_MMStack_2-Pos008_002.ome.tif'\n",
      "OME series: failed to read 'T0_10x10_1_MMStack_2-Pos009_002.ome.tif'\n",
      "OME series: failed to read 'T0_10x10_1_MMStack_2-Pos009_002.ome.tif'\n",
      "OME series: failed to read 'T0_10x10_1_MMStack_2-Pos009_003.ome.tif'\n",
      "OME series: failed to read 'T0_10x10_1_MMStack_2-Pos009_003.ome.tif'\n",
      "OME series: failed to read 'T0_10x10_1_MMStack_2-Pos008_003.ome.tif'\n",
      "OME series: failed to read 'T0_10x10_1_MMStack_2-Pos008_003.ome.tif'\n",
      "OME series: failed to read 'T0_10x10_1_MMStack_2-Pos007_003.ome.tif'\n",
      "OME series: failed to read 'T0_10x10_1_MMStack_2-Pos007_003.ome.tif'\n",
      "OME series: failed to read 'T0_10x10_1_MMStack_2-Pos006_003.ome.tif'\n",
      "OME series: failed to read 'T0_10x10_1_MMStack_2-Pos006_003.ome.tif'\n",
      "OME series: failed to read 'T0_10x10_1_MMStack_2-Pos005_003.ome.tif'\n",
      "OME series: failed to read 'T0_10x10_1_MMStack_2-Pos005_003.ome.tif'\n",
      "OME series: failed to read 'T0_10x10_1_MMStack_2-Pos005_004.ome.tif'\n",
      "OME series: failed to read 'T0_10x10_1_MMStack_2-Pos005_004.ome.tif'\n",
      "OME series: failed to read 'T0_10x10_1_MMStack_2-Pos006_004.ome.tif'\n",
      "OME series: failed to read 'T0_10x10_1_MMStack_2-Pos006_004.ome.tif'\n",
      "OME series: failed to read 'T0_10x10_1_MMStack_2-Pos007_004.ome.tif'\n",
      "OME series: failed to read 'T0_10x10_1_MMStack_2-Pos007_004.ome.tif'\n",
      "OME series: failed to read 'T0_10x10_1_MMStack_2-Pos008_004.ome.tif'\n",
      "OME series: failed to read 'T0_10x10_1_MMStack_2-Pos008_004.ome.tif'\n",
      "OME series: failed to read 'T0_10x10_1_MMStack_2-Pos009_004.ome.tif'\n",
      "OME series: failed to read 'T0_10x10_1_MMStack_2-Pos009_004.ome.tif'\n",
      "OME series: failed to read 'T0_10x10_1_MMStack_2-Pos009_005.ome.tif'\n",
      "OME series: failed to read 'T0_10x10_1_MMStack_2-Pos009_005.ome.tif'\n",
      "OME series: failed to read 'T0_10x10_1_MMStack_2-Pos008_005.ome.tif'\n",
      "OME series: failed to read 'T0_10x10_1_MMStack_2-Pos008_005.ome.tif'\n",
      "OME series: failed to read 'T0_10x10_1_MMStack_2-Pos007_005.ome.tif'\n",
      "OME series: failed to read 'T0_10x10_1_MMStack_2-Pos007_005.ome.tif'\n",
      "OME series: failed to read 'T0_10x10_1_MMStack_2-Pos006_005.ome.tif'\n",
      "OME series: failed to read 'T0_10x10_1_MMStack_2-Pos006_005.ome.tif'\n",
      "OME series: failed to read 'T0_10x10_1_MMStack_2-Pos005_005.ome.tif'\n",
      "OME series: failed to read 'T0_10x10_1_MMStack_2-Pos005_005.ome.tif'\n",
      "OME series: failed to read 'T0_10x10_1_MMStack_2-Pos005_006.ome.tif'\n",
      "OME series: failed to read 'T0_10x10_1_MMStack_2-Pos005_006.ome.tif'\n",
      "OME series: failed to read 'T0_10x10_1_MMStack_2-Pos006_006.ome.tif'\n",
      "OME series: failed to read 'T0_10x10_1_MMStack_2-Pos006_006.ome.tif'\n",
      "OME series: failed to read 'T0_10x10_1_MMStack_2-Pos007_006.ome.tif'\n",
      "OME series: failed to read 'T0_10x10_1_MMStack_2-Pos007_006.ome.tif'\n",
      "OME series: failed to read 'T0_10x10_1_MMStack_2-Pos008_006.ome.tif'\n",
      "OME series: failed to read 'T0_10x10_1_MMStack_2-Pos008_006.ome.tif'\n",
      "OME series: failed to read 'T0_10x10_1_MMStack_2-Pos009_006.ome.tif'\n",
      "OME series: failed to read 'T0_10x10_1_MMStack_2-Pos009_006.ome.tif'\n",
      "OME series: failed to read 'T0_10x10_1_MMStack_2-Pos009_007.ome.tif'\n",
      "OME series: failed to read 'T0_10x10_1_MMStack_2-Pos009_007.ome.tif'\n",
      "OME series: failed to read 'T0_10x10_1_MMStack_2-Pos008_007.ome.tif'\n",
      "OME series: failed to read 'T0_10x10_1_MMStack_2-Pos008_007.ome.tif'\n",
      "OME series: failed to read 'T0_10x10_1_MMStack_2-Pos007_007.ome.tif'\n",
      "OME series: failed to read 'T0_10x10_1_MMStack_2-Pos007_007.ome.tif'\n",
      "OME series: failed to read 'T0_10x10_1_MMStack_2-Pos006_007.ome.tif'\n",
      "OME series: failed to read 'T0_10x10_1_MMStack_2-Pos006_007.ome.tif'\n",
      "OME series: failed to read 'T0_10x10_1_MMStack_2-Pos005_007.ome.tif'\n",
      "OME series: failed to read 'T0_10x10_1_MMStack_2-Pos005_007.ome.tif'\n",
      "OME series: failed to read 'T0_10x10_1_MMStack_2-Pos005_008.ome.tif'\n",
      "OME series: failed to read 'T0_10x10_1_MMStack_2-Pos005_008.ome.tif'\n",
      "OME series: failed to read 'T0_10x10_1_MMStack_2-Pos006_008.ome.tif'\n",
      "OME series: failed to read 'T0_10x10_1_MMStack_2-Pos006_008.ome.tif'\n",
      "OME series: failed to read 'T0_10x10_1_MMStack_2-Pos007_008.ome.tif'\n",
      "OME series: failed to read 'T0_10x10_1_MMStack_2-Pos007_008.ome.tif'\n",
      "OME series: failed to read 'T0_10x10_1_MMStack_2-Pos008_008.ome.tif'\n",
      "OME series: failed to read 'T0_10x10_1_MMStack_2-Pos008_008.ome.tif'\n",
      "OME series: failed to read 'T0_10x10_1_MMStack_2-Pos009_008.ome.tif'\n",
      "OME series: failed to read 'T0_10x10_1_MMStack_2-Pos009_008.ome.tif'\n",
      "OME series: failed to read 'T0_10x10_1_MMStack_2-Pos009_009.ome.tif'\n",
      "OME series: failed to read 'T0_10x10_1_MMStack_2-Pos009_009.ome.tif'\n",
      "OME series: failed to read 'T0_10x10_1_MMStack_2-Pos008_009.ome.tif'\n",
      "OME series: failed to read 'T0_10x10_1_MMStack_2-Pos008_009.ome.tif'\n",
      "OME series: failed to read 'T0_10x10_1_MMStack_2-Pos007_009.ome.tif'\n",
      "OME series: failed to read 'T0_10x10_1_MMStack_2-Pos007_009.ome.tif'\n",
      "OME series: failed to read 'T0_10x10_1_MMStack_2-Pos006_009.ome.tif'\n",
      "OME series: failed to read 'T0_10x10_1_MMStack_2-Pos006_009.ome.tif'\n",
      "OME series: failed to read 'T0_10x10_1_MMStack_2-Pos005_009.ome.tif'\n",
      "OME series: failed to read 'T0_10x10_1_MMStack_2-Pos005_009.ome.tif'\n",
      "OME series: failed to read 'T0_10x10_1_MMStack_2-Pos005_000.ome.tif'\n",
      "OME series: failed to read 'T0_10x10_1_MMStack_2-Pos005_000.ome.tif'\n",
      "OME series: failed to read 'T0_10x10_1_MMStack_2-Pos006_000.ome.tif'\n",
      "OME series: failed to read 'T0_10x10_1_MMStack_2-Pos006_000.ome.tif'\n",
      "OME series: failed to read 'T0_10x10_1_MMStack_2-Pos007_000.ome.tif'\n",
      "OME series: failed to read 'T0_10x10_1_MMStack_2-Pos007_000.ome.tif'\n",
      "OME series: failed to read 'T0_10x10_1_MMStack_2-Pos008_000.ome.tif'\n",
      "OME series: failed to read 'T0_10x10_1_MMStack_2-Pos008_000.ome.tif'\n",
      "OME series: failed to read 'T0_10x10_1_MMStack_2-Pos009_000.ome.tif'\n",
      "OME series: failed to read 'T0_10x10_1_MMStack_2-Pos009_000.ome.tif'\n",
      "OME series: failed to read 'T0_10x10_1_MMStack_2-Pos009_001.ome.tif'\n",
      "OME series: failed to read 'T0_10x10_1_MMStack_2-Pos009_001.ome.tif'\n",
      "OME series: failed to read 'T0_10x10_1_MMStack_2-Pos008_001.ome.tif'\n",
      "OME series: failed to read 'T0_10x10_1_MMStack_2-Pos008_001.ome.tif'\n",
      "OME series: failed to read 'T0_10x10_1_MMStack_2-Pos007_001.ome.tif'\n",
      "OME series: failed to read 'T0_10x10_1_MMStack_2-Pos007_001.ome.tif'\n",
      "OME series: failed to read 'T0_10x10_1_MMStack_2-Pos006_001.ome.tif'\n",
      "OME series: failed to read 'T0_10x10_1_MMStack_2-Pos006_001.ome.tif'\n",
      "OME series: failed to read 'T0_10x10_1_MMStack_2-Pos005_001.ome.tif'\n",
      "OME series: failed to read 'T0_10x10_1_MMStack_2-Pos005_001.ome.tif'\n",
      "OME series: failed to read 'T0_10x10_1_MMStack_2-Pos005_002.ome.tif'\n",
      "OME series: failed to read 'T0_10x10_1_MMStack_2-Pos005_002.ome.tif'\n",
      "OME series: failed to read 'T0_10x10_1_MMStack_2-Pos006_002.ome.tif'\n",
      "OME series: failed to read 'T0_10x10_1_MMStack_2-Pos006_002.ome.tif'\n",
      "OME series: failed to read 'T0_10x10_1_MMStack_2-Pos007_002.ome.tif'\n",
      "OME series: failed to read 'T0_10x10_1_MMStack_2-Pos007_002.ome.tif'\n",
      "OME series: failed to read 'T0_10x10_1_MMStack_2-Pos008_002.ome.tif'\n",
      "OME series: failed to read 'T0_10x10_1_MMStack_2-Pos008_002.ome.tif'\n",
      "OME series: failed to read 'T0_10x10_1_MMStack_2-Pos009_002.ome.tif'\n",
      "OME series: failed to read 'T0_10x10_1_MMStack_2-Pos009_002.ome.tif'\n",
      "OME series: failed to read 'T0_10x10_1_MMStack_2-Pos009_003.ome.tif'\n",
      "OME series: failed to read 'T0_10x10_1_MMStack_2-Pos009_003.ome.tif'\n",
      "OME series: failed to read 'T0_10x10_1_MMStack_2-Pos008_003.ome.tif'\n",
      "OME series: failed to read 'T0_10x10_1_MMStack_2-Pos008_003.ome.tif'\n",
      "OME series: failed to read 'T0_10x10_1_MMStack_2-Pos007_003.ome.tif'\n",
      "OME series: failed to read 'T0_10x10_1_MMStack_2-Pos007_003.ome.tif'\n",
      "OME series: failed to read 'T0_10x10_1_MMStack_2-Pos006_003.ome.tif'\n",
      "OME series: failed to read 'T0_10x10_1_MMStack_2-Pos006_003.ome.tif'\n",
      "OME series: failed to read 'T0_10x10_1_MMStack_2-Pos005_003.ome.tif'\n",
      "OME series: failed to read 'T0_10x10_1_MMStack_2-Pos005_003.ome.tif'\n",
      "OME series: failed to read 'T0_10x10_1_MMStack_2-Pos005_004.ome.tif'\n",
      "OME series: failed to read 'T0_10x10_1_MMStack_2-Pos005_004.ome.tif'\n",
      "OME series: failed to read 'T0_10x10_1_MMStack_2-Pos006_004.ome.tif'\n",
      "OME series: failed to read 'T0_10x10_1_MMStack_2-Pos006_004.ome.tif'\n",
      "OME series: failed to read 'T0_10x10_1_MMStack_2-Pos007_004.ome.tif'\n",
      "OME series: failed to read 'T0_10x10_1_MMStack_2-Pos007_004.ome.tif'\n",
      "OME series: failed to read 'T0_10x10_1_MMStack_2-Pos008_004.ome.tif'\n",
      "OME series: failed to read 'T0_10x10_1_MMStack_2-Pos008_004.ome.tif'\n",
      "OME series: failed to read 'T0_10x10_1_MMStack_2-Pos009_004.ome.tif'\n",
      "OME series: failed to read 'T0_10x10_1_MMStack_2-Pos009_004.ome.tif'\n",
      "OME series: failed to read 'T0_10x10_1_MMStack_2-Pos009_005.ome.tif'\n",
      "OME series: failed to read 'T0_10x10_1_MMStack_2-Pos009_005.ome.tif'\n",
      "OME series: failed to read 'T0_10x10_1_MMStack_2-Pos008_005.ome.tif'\n",
      "OME series: failed to read 'T0_10x10_1_MMStack_2-Pos008_005.ome.tif'\n",
      "OME series: failed to read 'T0_10x10_1_MMStack_2-Pos007_005.ome.tif'\n",
      "OME series: failed to read 'T0_10x10_1_MMStack_2-Pos007_005.ome.tif'\n",
      "OME series: failed to read 'T0_10x10_1_MMStack_2-Pos006_005.ome.tif'\n",
      "OME series: failed to read 'T0_10x10_1_MMStack_2-Pos006_005.ome.tif'\n",
      "OME series: failed to read 'T0_10x10_1_MMStack_2-Pos005_005.ome.tif'\n",
      "OME series: failed to read 'T0_10x10_1_MMStack_2-Pos005_005.ome.tif'\n",
      "OME series: failed to read 'T0_10x10_1_MMStack_2-Pos005_006.ome.tif'\n",
      "OME series: failed to read 'T0_10x10_1_MMStack_2-Pos005_006.ome.tif'\n",
      "OME series: failed to read 'T0_10x10_1_MMStack_2-Pos006_006.ome.tif'\n",
      "OME series: failed to read 'T0_10x10_1_MMStack_2-Pos006_006.ome.tif'\n",
      "OME series: failed to read 'T0_10x10_1_MMStack_2-Pos007_006.ome.tif'\n",
      "OME series: failed to read 'T0_10x10_1_MMStack_2-Pos007_006.ome.tif'\n",
      "OME series: failed to read 'T0_10x10_1_MMStack_2-Pos008_006.ome.tif'\n",
      "OME series: failed to read 'T0_10x10_1_MMStack_2-Pos008_006.ome.tif'\n",
      "OME series: failed to read 'T0_10x10_1_MMStack_2-Pos009_006.ome.tif'\n",
      "OME series: failed to read 'T0_10x10_1_MMStack_2-Pos009_006.ome.tif'\n",
      "OME series: failed to read 'T0_10x10_1_MMStack_2-Pos009_007.ome.tif'\n",
      "OME series: failed to read 'T0_10x10_1_MMStack_2-Pos009_007.ome.tif'\n",
      "OME series: failed to read 'T0_10x10_1_MMStack_2-Pos008_007.ome.tif'\n",
      "OME series: failed to read 'T0_10x10_1_MMStack_2-Pos008_007.ome.tif'\n",
      "OME series: failed to read 'T0_10x10_1_MMStack_2-Pos007_007.ome.tif'\n",
      "OME series: failed to read 'T0_10x10_1_MMStack_2-Pos007_007.ome.tif'\n",
      "OME series: failed to read 'T0_10x10_1_MMStack_2-Pos006_007.ome.tif'\n",
      "OME series: failed to read 'T0_10x10_1_MMStack_2-Pos006_007.ome.tif'\n",
      "OME series: failed to read 'T0_10x10_1_MMStack_2-Pos005_007.ome.tif'\n",
      "OME series: failed to read 'T0_10x10_1_MMStack_2-Pos005_007.ome.tif'\n",
      "OME series: failed to read 'T0_10x10_1_MMStack_2-Pos005_008.ome.tif'\n",
      "OME series: failed to read 'T0_10x10_1_MMStack_2-Pos005_008.ome.tif'\n",
      "OME series: failed to read 'T0_10x10_1_MMStack_2-Pos006_008.ome.tif'\n",
      "OME series: failed to read 'T0_10x10_1_MMStack_2-Pos006_008.ome.tif'\n",
      "OME series: failed to read 'T0_10x10_1_MMStack_2-Pos007_008.ome.tif'\n",
      "OME series: failed to read 'T0_10x10_1_MMStack_2-Pos007_008.ome.tif'\n",
      "OME series: failed to read 'T0_10x10_1_MMStack_2-Pos008_008.ome.tif'\n",
      "OME series: failed to read 'T0_10x10_1_MMStack_2-Pos008_008.ome.tif'\n",
      "OME series: failed to read 'T0_10x10_1_MMStack_2-Pos009_008.ome.tif'\n",
      "OME series: failed to read 'T0_10x10_1_MMStack_2-Pos009_008.ome.tif'\n",
      "OME series: failed to read 'T0_10x10_1_MMStack_2-Pos009_009.ome.tif'\n",
      "OME series: failed to read 'T0_10x10_1_MMStack_2-Pos009_009.ome.tif'\n",
      "OME series: failed to read 'T0_10x10_1_MMStack_2-Pos008_009.ome.tif'\n",
      "OME series: failed to read 'T0_10x10_1_MMStack_2-Pos008_009.ome.tif'\n",
      "OME series: failed to read 'T0_10x10_1_MMStack_2-Pos007_009.ome.tif'\n",
      "OME series: failed to read 'T0_10x10_1_MMStack_2-Pos007_009.ome.tif'\n",
      "OME series: failed to read 'T0_10x10_1_MMStack_2-Pos006_009.ome.tif'\n",
      "OME series: failed to read 'T0_10x10_1_MMStack_2-Pos006_009.ome.tif'\n",
      "OME series: failed to read 'T0_10x10_1_MMStack_2-Pos005_009.ome.tif'\n",
      "OME series: failed to read 'T0_10x10_1_MMStack_2-Pos005_009.ome.tif'\n",
      "OME series: not an ome-tiff master file\n",
      "OME series: not an ome-tiff master file\n"
     ]
    },
    {
     "name": "stdout",
     "output_type": "stream",
     "text": [
      "\n",
      "Initial number of spots detected by trackpy: 92\n",
      "Number of spots discarded regarding mass: 4\n",
      "Final number of selected spots: 88\n",
      "\n",
      "\n",
      "\n",
      "\n",
      "\tProcessing image T0_10x10_1_MMStack_2-Pos000_001\n",
      "\n"
     ]
    },
    {
     "name": "stderr",
     "output_type": "stream",
     "text": [
      "OME series: not an ome-tiff master file\n",
      "OME series: not an ome-tiff master file\n",
      "OME series: not an ome-tiff master file\n"
     ]
    },
    {
     "name": "stdout",
     "output_type": "stream",
     "text": [
      "\n",
      "Initial number of spots detected by trackpy: 92\n",
      "Number of spots discarded regarding mass: 5\n",
      "Final number of selected spots: 87\n",
      "\n",
      "\n",
      "\n",
      "\n",
      "\tProcessing image T0_10x10_1_MMStack_2-Pos000_002\n",
      "\n"
     ]
    },
    {
     "name": "stderr",
     "output_type": "stream",
     "text": [
      "OME series: not an ome-tiff master file\n",
      "OME series: not an ome-tiff master file\n",
      "OME series: not an ome-tiff master file\n"
     ]
    },
    {
     "name": "stdout",
     "output_type": "stream",
     "text": [
      "Sum pdf = 100\n",
      "\n",
      "\n",
      "Initial number of spots detected by trackpy: 93\n",
      "Number of spots discarded regarding mass: 5\n",
      "Final number of selected spots: 88\n",
      "\n",
      "\n",
      "\n",
      "\n",
      "\tProcessing image T0_10x10_1_MMStack_2-Pos000_003\n",
      "\n"
     ]
    },
    {
     "name": "stderr",
     "output_type": "stream",
     "text": [
      "OME series: not an ome-tiff master file\n",
      "OME series: not an ome-tiff master file\n",
      "OME series: not an ome-tiff master file\n"
     ]
    },
    {
     "name": "stdout",
     "output_type": "stream",
     "text": [
      "\n",
      "Initial number of spots detected by trackpy: 98\n",
      "Number of spots discarded regarding mass: 5\n",
      "Final number of selected spots: 93\n",
      "\n",
      "\n",
      "\n",
      "\n",
      "\tProcessing image T0_10x10_1_MMStack_2-Pos000_004\n",
      "\n"
     ]
    },
    {
     "name": "stderr",
     "output_type": "stream",
     "text": [
      "OME series: not an ome-tiff master file\n",
      "OME series: not an ome-tiff master file\n",
      "OME series: not an ome-tiff master file\n"
     ]
    },
    {
     "name": "stdout",
     "output_type": "stream",
     "text": [
      "\n",
      "Initial number of spots detected by trackpy: 104\n",
      "Number of spots discarded regarding mass: 5\n",
      "Final number of selected spots: 99\n",
      "\n",
      "\n",
      "\n",
      "\n",
      "\tProcessing image T0_10x10_1_MMStack_2-Pos000_005\n",
      "\n"
     ]
    },
    {
     "name": "stderr",
     "output_type": "stream",
     "text": [
      "OME series: not an ome-tiff master file\n",
      "OME series: not an ome-tiff master file\n",
      "OME series: not an ome-tiff master file\n"
     ]
    },
    {
     "name": "stdout",
     "output_type": "stream",
     "text": [
      "\n",
      "Initial number of spots detected by trackpy: 96\n",
      "Number of spots discarded regarding mass: 4\n",
      "Final number of selected spots: 92\n",
      "\n",
      "\n",
      "\n",
      "\n",
      "\tProcessing image T0_10x10_1_MMStack_2-Pos000_006\n",
      "\n"
     ]
    },
    {
     "name": "stderr",
     "output_type": "stream",
     "text": [
      "OME series: not an ome-tiff master file\n",
      "OME series: not an ome-tiff master file\n",
      "OME series: not an ome-tiff master file\n"
     ]
    },
    {
     "name": "stdout",
     "output_type": "stream",
     "text": [
      "Sum pdf = 100\n",
      "\n",
      "\n",
      "Initial number of spots detected by trackpy: 90\n",
      "Number of spots discarded regarding mass: 5\n",
      "Final number of selected spots: 85\n",
      "\n",
      "\n",
      "\n",
      "\n",
      "\tProcessing image T0_10x10_1_MMStack_2-Pos000_007\n",
      "\n"
     ]
    },
    {
     "name": "stderr",
     "output_type": "stream",
     "text": [
      "OME series: not an ome-tiff master file\n",
      "OME series: not an ome-tiff master file\n",
      "OME series: not an ome-tiff master file\n"
     ]
    },
    {
     "name": "stdout",
     "output_type": "stream",
     "text": [
      "Sum pdf = 100\n",
      "\n",
      "\n",
      "Initial number of spots detected by trackpy: 90\n",
      "Number of spots discarded regarding mass: 4\n",
      "Final number of selected spots: 86\n",
      "\n",
      "\n",
      "\n",
      "\n",
      "\tProcessing image T0_10x10_1_MMStack_2-Pos000_008\n",
      "\n"
     ]
    },
    {
     "name": "stderr",
     "output_type": "stream",
     "text": [
      "OME series: not an ome-tiff master file\n",
      "OME series: not an ome-tiff master file\n",
      "OME series: not an ome-tiff master file\n"
     ]
    },
    {
     "name": "stdout",
     "output_type": "stream",
     "text": [
      "\n",
      "Initial number of spots detected by trackpy: 96\n",
      "Number of spots discarded regarding mass: 5\n",
      "Final number of selected spots: 91\n",
      "\n",
      "\n",
      "\n",
      "\n",
      "\tProcessing image T0_10x10_1_MMStack_2-Pos000_009\n",
      "\n"
     ]
    },
    {
     "name": "stderr",
     "output_type": "stream",
     "text": [
      "OME series: not an ome-tiff master file\n",
      "OME series: not an ome-tiff master file\n",
      "OME series: not an ome-tiff master file\n"
     ]
    },
    {
     "name": "stdout",
     "output_type": "stream",
     "text": [
      "Sum pdf = 100\n",
      "\n",
      "\n",
      "Initial number of spots detected by trackpy: 90\n",
      "Number of spots discarded regarding mass: 5\n",
      "Final number of selected spots: 85\n",
      "\n",
      "\n",
      "\n",
      "\n",
      "\tProcessing image T0_10x10_1_MMStack_2-Pos001_000\n",
      "\n"
     ]
    },
    {
     "name": "stderr",
     "output_type": "stream",
     "text": [
      "OME series: not an ome-tiff master file\n",
      "OME series: not an ome-tiff master file\n",
      "OME series: not an ome-tiff master file\n"
     ]
    },
    {
     "name": "stdout",
     "output_type": "stream",
     "text": [
      "\n",
      "Initial number of spots detected by trackpy: 96\n",
      "Number of spots discarded regarding mass: 5\n",
      "Final number of selected spots: 91\n",
      "\n",
      "\n",
      "\n",
      "\n",
      "\tProcessing image T0_10x10_1_MMStack_2-Pos001_001\n",
      "\n"
     ]
    },
    {
     "name": "stderr",
     "output_type": "stream",
     "text": [
      "OME series: not an ome-tiff master file\n",
      "OME series: not an ome-tiff master file\n",
      "OME series: not an ome-tiff master file\n"
     ]
    },
    {
     "name": "stdout",
     "output_type": "stream",
     "text": [
      "\n",
      "Initial number of spots detected by trackpy: 100\n",
      "Number of spots discarded regarding mass: 5\n",
      "Final number of selected spots: 95\n",
      "\n",
      "\n",
      "\n",
      "\n",
      "\tProcessing image T0_10x10_1_MMStack_2-Pos001_002\n",
      "\n"
     ]
    },
    {
     "name": "stderr",
     "output_type": "stream",
     "text": [
      "OME series: not an ome-tiff master file\n",
      "OME series: not an ome-tiff master file\n",
      "OME series: not an ome-tiff master file\n"
     ]
    },
    {
     "name": "stdout",
     "output_type": "stream",
     "text": [
      "Sum pdf = 100\n",
      "\n",
      "\n",
      "Initial number of spots detected by trackpy: 102\n",
      "Number of spots discarded regarding mass: 5\n",
      "Final number of selected spots: 97\n",
      "\n",
      "\n",
      "\n",
      "\n",
      "\tProcessing image T0_10x10_1_MMStack_2-Pos001_003\n",
      "\n"
     ]
    },
    {
     "name": "stderr",
     "output_type": "stream",
     "text": [
      "OME series: not an ome-tiff master file\n",
      "OME series: not an ome-tiff master file\n",
      "OME series: not an ome-tiff master file\n"
     ]
    },
    {
     "name": "stdout",
     "output_type": "stream",
     "text": [
      "Sum pdf = 100\n",
      "\n",
      "\n",
      "Initial number of spots detected by trackpy: 108\n",
      "Number of spots discarded regarding mass: 5\n",
      "Final number of selected spots: 103\n",
      "\n",
      "\n",
      "\n",
      "\n",
      "\tProcessing image T0_10x10_1_MMStack_2-Pos001_004\n",
      "\n"
     ]
    },
    {
     "name": "stderr",
     "output_type": "stream",
     "text": [
      "OME series: not an ome-tiff master file\n",
      "OME series: not an ome-tiff master file\n",
      "OME series: not an ome-tiff master file\n"
     ]
    },
    {
     "name": "stdout",
     "output_type": "stream",
     "text": [
      "Sum pdf = 100\n",
      "\n",
      "\n",
      "Initial number of spots detected by trackpy: 112\n",
      "Number of spots discarded regarding mass: 5\n",
      "Final number of selected spots: 107\n",
      "\n",
      "\n",
      "\n",
      "\n",
      "\tProcessing image T0_10x10_1_MMStack_2-Pos001_005\n",
      "\n"
     ]
    },
    {
     "name": "stderr",
     "output_type": "stream",
     "text": [
      "OME series: not an ome-tiff master file\n",
      "OME series: not an ome-tiff master file\n",
      "OME series: not an ome-tiff master file\n"
     ]
    },
    {
     "name": "stdout",
     "output_type": "stream",
     "text": [
      "\n",
      "Initial number of spots detected by trackpy: 104\n",
      "Number of spots discarded regarding mass: 5\n",
      "Final number of selected spots: 99\n",
      "\n",
      "\n",
      "\n",
      "\n",
      "\tProcessing image T0_10x10_1_MMStack_2-Pos001_006\n",
      "\n"
     ]
    },
    {
     "name": "stderr",
     "output_type": "stream",
     "text": [
      "OME series: not an ome-tiff master file\n",
      "OME series: not an ome-tiff master file\n",
      "OME series: not an ome-tiff master file\n"
     ]
    },
    {
     "name": "stdout",
     "output_type": "stream",
     "text": [
      "Sum pdf = 100\n",
      "\n",
      "\n",
      "Initial number of spots detected by trackpy: 96\n",
      "Number of spots discarded regarding mass: 6\n",
      "Final number of selected spots: 90\n",
      "\n",
      "\n",
      "\n",
      "\n",
      "\tProcessing image T0_10x10_1_MMStack_2-Pos001_007\n",
      "\n"
     ]
    },
    {
     "name": "stderr",
     "output_type": "stream",
     "text": [
      "OME series: not an ome-tiff master file\n",
      "OME series: not an ome-tiff master file\n",
      "OME series: not an ome-tiff master file\n"
     ]
    },
    {
     "name": "stdout",
     "output_type": "stream",
     "text": [
      "\n",
      "Initial number of spots detected by trackpy: 92\n",
      "Number of spots discarded regarding mass: 5\n",
      "Final number of selected spots: 87\n",
      "\n",
      "\n",
      "\n",
      "\n",
      "\tProcessing image T0_10x10_1_MMStack_2-Pos001_008\n",
      "\n"
     ]
    },
    {
     "name": "stderr",
     "output_type": "stream",
     "text": [
      "OME series: not an ome-tiff master file\n",
      "OME series: not an ome-tiff master file\n",
      "OME series: not an ome-tiff master file\n"
     ]
    },
    {
     "name": "stdout",
     "output_type": "stream",
     "text": [
      "\n",
      "Initial number of spots detected by trackpy: 98\n",
      "Number of spots discarded regarding mass: 5\n",
      "Final number of selected spots: 93\n",
      "\n",
      "\n",
      "\n",
      "\n",
      "\tProcessing image T0_10x10_1_MMStack_2-Pos001_009\n",
      "\n"
     ]
    },
    {
     "name": "stderr",
     "output_type": "stream",
     "text": [
      "OME series: not an ome-tiff master file\n",
      "OME series: not an ome-tiff master file\n",
      "OME series: not an ome-tiff master file\n"
     ]
    },
    {
     "name": "stdout",
     "output_type": "stream",
     "text": [
      "Sum pdf = 100\n",
      "\n",
      "\n",
      "Initial number of spots detected by trackpy: 90\n",
      "Number of spots discarded regarding mass: 5\n",
      "Final number of selected spots: 85\n",
      "\n",
      "\n",
      "\n",
      "\n",
      "\tProcessing image T0_10x10_1_MMStack_2-Pos002_000\n",
      "\n"
     ]
    },
    {
     "name": "stderr",
     "output_type": "stream",
     "text": [
      "OME series: not an ome-tiff master file\n",
      "OME series: not an ome-tiff master file\n",
      "OME series: not an ome-tiff master file\n"
     ]
    },
    {
     "name": "stdout",
     "output_type": "stream",
     "text": [
      "\n",
      "Initial number of spots detected by trackpy: 94\n",
      "Number of spots discarded regarding mass: 6\n",
      "Final number of selected spots: 88\n",
      "\n",
      "\n",
      "\n",
      "\n",
      "\tProcessing image T0_10x10_1_MMStack_2-Pos002_001\n",
      "\n"
     ]
    },
    {
     "name": "stderr",
     "output_type": "stream",
     "text": [
      "OME series: not an ome-tiff master file\n",
      "OME series: not an ome-tiff master file\n",
      "OME series: not an ome-tiff master file\n"
     ]
    },
    {
     "name": "stdout",
     "output_type": "stream",
     "text": [
      "Sum pdf = 100\n",
      "\n",
      "\n",
      "Initial number of spots detected by trackpy: 104\n",
      "Number of spots discarded regarding mass: 6\n",
      "Final number of selected spots: 98\n",
      "\n",
      "\n",
      "\n",
      "\n",
      "\tProcessing image T0_10x10_1_MMStack_2-Pos002_002\n",
      "\n"
     ]
    },
    {
     "name": "stderr",
     "output_type": "stream",
     "text": [
      "OME series: not an ome-tiff master file\n",
      "OME series: not an ome-tiff master file\n",
      "OME series: not an ome-tiff master file\n"
     ]
    },
    {
     "name": "stdout",
     "output_type": "stream",
     "text": [
      "Sum pdf = 100\n",
      "\n",
      "\n",
      "Initial number of spots detected by trackpy: 104\n",
      "Number of spots discarded regarding mass: 5\n",
      "Final number of selected spots: 99\n",
      "\n",
      "\n",
      "\n",
      "\n",
      "\tProcessing image T0_10x10_1_MMStack_2-Pos002_003\n",
      "\n"
     ]
    },
    {
     "name": "stderr",
     "output_type": "stream",
     "text": [
      "OME series: not an ome-tiff master file\n",
      "OME series: not an ome-tiff master file\n",
      "OME series: not an ome-tiff master file\n"
     ]
    },
    {
     "name": "stdout",
     "output_type": "stream",
     "text": [
      "Sum pdf = 100\n",
      "\n",
      "\n",
      "Initial number of spots detected by trackpy: 114\n",
      "Number of spots discarded regarding mass: 6\n",
      "Final number of selected spots: 108\n",
      "\n",
      "\n",
      "\n",
      "\n",
      "\tProcessing image T0_10x10_1_MMStack_2-Pos002_004\n",
      "\n"
     ]
    },
    {
     "name": "stderr",
     "output_type": "stream",
     "text": [
      "OME series: not an ome-tiff master file\n",
      "OME series: not an ome-tiff master file\n",
      "OME series: not an ome-tiff master file\n"
     ]
    },
    {
     "name": "stdout",
     "output_type": "stream",
     "text": [
      "Sum pdf = 100\n",
      "\n",
      "\n",
      "Initial number of spots detected by trackpy: 115\n",
      "Number of spots discarded regarding mass: 6\n",
      "Final number of selected spots: 109\n",
      "\n",
      "\n",
      "\n",
      "\n",
      "\tProcessing image T0_10x10_1_MMStack_2-Pos002_005\n",
      "\n"
     ]
    },
    {
     "name": "stderr",
     "output_type": "stream",
     "text": [
      "OME series: not an ome-tiff master file\n",
      "OME series: not an ome-tiff master file\n",
      "OME series: not an ome-tiff master file\n"
     ]
    },
    {
     "name": "stdout",
     "output_type": "stream",
     "text": [
      "Sum pdf = 100\n",
      "\n",
      "\n",
      "Initial number of spots detected by trackpy: 108\n",
      "Number of spots discarded regarding mass: 6\n",
      "Final number of selected spots: 102\n",
      "\n",
      "\n",
      "\n",
      "\n",
      "\tProcessing image T0_10x10_1_MMStack_2-Pos002_006\n",
      "\n"
     ]
    },
    {
     "name": "stderr",
     "output_type": "stream",
     "text": [
      "OME series: not an ome-tiff master file\n",
      "OME series: not an ome-tiff master file\n",
      "OME series: not an ome-tiff master file\n"
     ]
    },
    {
     "name": "stdout",
     "output_type": "stream",
     "text": [
      "Sum pdf = 100\n",
      "\n",
      "\n",
      "Initial number of spots detected by trackpy: 101\n",
      "Number of spots discarded regarding mass: 4\n",
      "Final number of selected spots: 97\n",
      "\n",
      "\n",
      "\n",
      "\n",
      "\tProcessing image T0_10x10_1_MMStack_2-Pos002_007\n",
      "\n"
     ]
    },
    {
     "name": "stderr",
     "output_type": "stream",
     "text": [
      "OME series: not an ome-tiff master file\n",
      "OME series: not an ome-tiff master file\n",
      "OME series: not an ome-tiff master file\n"
     ]
    },
    {
     "name": "stdout",
     "output_type": "stream",
     "text": [
      "Sum pdf = 100\n",
      "\n",
      "\n",
      "Initial number of spots detected by trackpy: 100\n",
      "Number of spots discarded regarding mass: 5\n",
      "Final number of selected spots: 95\n",
      "\n",
      "\n",
      "\n",
      "\n",
      "\tProcessing image T0_10x10_1_MMStack_2-Pos002_008\n",
      "\n"
     ]
    },
    {
     "name": "stderr",
     "output_type": "stream",
     "text": [
      "OME series: not an ome-tiff master file\n",
      "OME series: not an ome-tiff master file\n",
      "OME series: not an ome-tiff master file\n"
     ]
    },
    {
     "name": "stdout",
     "output_type": "stream",
     "text": [
      "\n",
      "Initial number of spots detected by trackpy: 105\n",
      "Number of spots discarded regarding mass: 6\n",
      "Final number of selected spots: 99\n",
      "\n",
      "\n",
      "\n",
      "\n",
      "\tProcessing image T0_10x10_1_MMStack_2-Pos002_009\n",
      "\n"
     ]
    },
    {
     "name": "stderr",
     "output_type": "stream",
     "text": [
      "OME series: not an ome-tiff master file\n",
      "OME series: not an ome-tiff master file\n",
      "OME series: not an ome-tiff master file\n"
     ]
    },
    {
     "name": "stdout",
     "output_type": "stream",
     "text": [
      "Sum pdf = 100\n",
      "\n",
      "\n",
      "Initial number of spots detected by trackpy: 98\n",
      "Number of spots discarded regarding mass: 6\n",
      "Final number of selected spots: 92\n",
      "\n",
      "\n",
      "\n",
      "\n",
      "\tProcessing image T0_10x10_1_MMStack_2-Pos003_000\n",
      "\n"
     ]
    },
    {
     "name": "stderr",
     "output_type": "stream",
     "text": [
      "OME series: not an ome-tiff master file\n",
      "OME series: not an ome-tiff master file\n",
      "OME series: not an ome-tiff master file\n"
     ]
    },
    {
     "name": "stdout",
     "output_type": "stream",
     "text": [
      "\n",
      "Initial number of spots detected by trackpy: 94\n",
      "Number of spots discarded regarding mass: 1\n",
      "Final number of selected spots: 93\n",
      "\n",
      "\n",
      "\n",
      "\n",
      "\tProcessing image T0_10x10_1_MMStack_2-Pos003_001\n",
      "\n"
     ]
    },
    {
     "name": "stderr",
     "output_type": "stream",
     "text": [
      "OME series: not an ome-tiff master file\n",
      "OME series: not an ome-tiff master file\n",
      "OME series: not an ome-tiff master file\n"
     ]
    },
    {
     "name": "stdout",
     "output_type": "stream",
     "text": [
      "\n",
      "Initial number of spots detected by trackpy: 106\n",
      "Number of spots discarded regarding mass: 2\n",
      "Final number of selected spots: 104\n",
      "\n",
      "\n",
      "\n",
      "\n",
      "\tProcessing image T0_10x10_1_MMStack_2-Pos003_002\n",
      "\n"
     ]
    },
    {
     "name": "stderr",
     "output_type": "stream",
     "text": [
      "OME series: not an ome-tiff master file\n",
      "OME series: not an ome-tiff master file\n",
      "OME series: not an ome-tiff master file\n"
     ]
    },
    {
     "name": "stdout",
     "output_type": "stream",
     "text": [
      "Sum pdf = 100\n",
      "\n",
      "\n",
      "Initial number of spots detected by trackpy: 102\n",
      "Number of spots discarded regarding mass: 7\n",
      "Final number of selected spots: 95\n",
      "\n",
      "\n",
      "\n",
      "\n",
      "\tProcessing image T0_10x10_1_MMStack_2-Pos003_003\n",
      "\n"
     ]
    },
    {
     "name": "stderr",
     "output_type": "stream",
     "text": [
      "OME series: not an ome-tiff master file\n",
      "OME series: not an ome-tiff master file\n",
      "OME series: not an ome-tiff master file\n"
     ]
    },
    {
     "name": "stdout",
     "output_type": "stream",
     "text": [
      "\n",
      "Initial number of spots detected by trackpy: 107\n",
      "Number of spots discarded regarding mass: 5\n",
      "Final number of selected spots: 102\n",
      "\n",
      "\n",
      "\n",
      "\n",
      "\tProcessing image T0_10x10_1_MMStack_2-Pos003_004\n",
      "\n"
     ]
    },
    {
     "name": "stderr",
     "output_type": "stream",
     "text": [
      "OME series: not an ome-tiff master file\n",
      "OME series: not an ome-tiff master file\n",
      "OME series: not an ome-tiff master file\n"
     ]
    },
    {
     "name": "stdout",
     "output_type": "stream",
     "text": [
      "\n",
      "Initial number of spots detected by trackpy: 109\n",
      "Number of spots discarded regarding mass: 4\n",
      "Final number of selected spots: 105\n",
      "\n",
      "\n",
      "\n",
      "\n",
      "\tProcessing image T0_10x10_1_MMStack_2-Pos003_005\n",
      "\n"
     ]
    },
    {
     "name": "stderr",
     "output_type": "stream",
     "text": [
      "OME series: not an ome-tiff master file\n",
      "OME series: not an ome-tiff master file\n",
      "OME series: not an ome-tiff master file\n"
     ]
    },
    {
     "name": "stdout",
     "output_type": "stream",
     "text": [
      "Sum pdf = 100\n",
      "\n",
      "\n",
      "Initial number of spots detected by trackpy: 102\n",
      "Number of spots discarded regarding mass: 6\n",
      "Final number of selected spots: 96\n",
      "\n",
      "\n",
      "\n",
      "\n",
      "\tProcessing image T0_10x10_1_MMStack_2-Pos003_006\n",
      "\n"
     ]
    },
    {
     "name": "stderr",
     "output_type": "stream",
     "text": [
      "OME series: not an ome-tiff master file\n",
      "OME series: not an ome-tiff master file\n",
      "OME series: not an ome-tiff master file\n"
     ]
    },
    {
     "name": "stdout",
     "output_type": "stream",
     "text": [
      "Sum pdf = 100\n",
      "\n",
      "\n",
      "Initial number of spots detected by trackpy: 96\n",
      "Number of spots discarded regarding mass: 4\n",
      "Final number of selected spots: 92\n",
      "\n",
      "\n",
      "\n",
      "\n",
      "\tProcessing image T0_10x10_1_MMStack_2-Pos003_007\n",
      "\n"
     ]
    },
    {
     "name": "stderr",
     "output_type": "stream",
     "text": [
      "OME series: not an ome-tiff master file\n",
      "OME series: not an ome-tiff master file\n",
      "OME series: not an ome-tiff master file\n"
     ]
    },
    {
     "name": "stdout",
     "output_type": "stream",
     "text": [
      "Sum pdf = 100\n",
      "\n",
      "\n",
      "Initial number of spots detected by trackpy: 92\n",
      "Number of spots discarded regarding mass: 5\n",
      "Final number of selected spots: 87\n",
      "\n",
      "\n",
      "\n",
      "\n",
      "\tProcessing image T0_10x10_1_MMStack_2-Pos003_008\n",
      "\n"
     ]
    },
    {
     "name": "stderr",
     "output_type": "stream",
     "text": [
      "OME series: not an ome-tiff master file\n",
      "OME series: not an ome-tiff master file\n",
      "OME series: not an ome-tiff master file\n"
     ]
    },
    {
     "name": "stdout",
     "output_type": "stream",
     "text": [
      "Sum pdf = 100\n",
      "\n",
      "\n",
      "Initial number of spots detected by trackpy: 97\n",
      "Number of spots discarded regarding mass: 6\n",
      "Final number of selected spots: 91\n",
      "\n",
      "\n",
      "\n",
      "\n",
      "\tProcessing image T0_10x10_1_MMStack_2-Pos003_009\n",
      "\n"
     ]
    },
    {
     "name": "stderr",
     "output_type": "stream",
     "text": [
      "OME series: not an ome-tiff master file\n",
      "OME series: not an ome-tiff master file\n",
      "OME series: not an ome-tiff master file\n"
     ]
    },
    {
     "name": "stdout",
     "output_type": "stream",
     "text": [
      "Sum pdf = 100\n",
      "\n",
      "\n",
      "Initial number of spots detected by trackpy: 90\n",
      "Number of spots discarded regarding mass: 6\n",
      "Final number of selected spots: 84\n",
      "\n",
      "\n",
      "\n",
      "\n",
      "\tProcessing image T0_10x10_1_MMStack_2-Pos004_000\n",
      "\n"
     ]
    },
    {
     "name": "stderr",
     "output_type": "stream",
     "text": [
      "OME series: not an ome-tiff master file\n",
      "OME series: not an ome-tiff master file\n",
      "OME series: not an ome-tiff master file\n"
     ]
    },
    {
     "name": "stdout",
     "output_type": "stream",
     "text": [
      "\n",
      "Initial number of spots detected by trackpy: 86\n",
      "Number of spots discarded regarding mass: 3\n",
      "Final number of selected spots: 83\n",
      "\n",
      "\n",
      "\n",
      "\n",
      "\tProcessing image T0_10x10_1_MMStack_2-Pos004_001\n",
      "\n"
     ]
    },
    {
     "name": "stderr",
     "output_type": "stream",
     "text": [
      "OME series: not an ome-tiff master file\n",
      "OME series: not an ome-tiff master file\n",
      "OME series: not an ome-tiff master file\n"
     ]
    },
    {
     "name": "stdout",
     "output_type": "stream",
     "text": [
      "\n",
      "Initial number of spots detected by trackpy: 96\n",
      "Number of spots discarded regarding mass: 2\n",
      "Final number of selected spots: 94\n",
      "\n",
      "\n",
      "\n",
      "\n",
      "\tProcessing image T0_10x10_1_MMStack_2-Pos004_002\n",
      "\n"
     ]
    },
    {
     "name": "stderr",
     "output_type": "stream",
     "text": [
      "OME series: not an ome-tiff master file\n",
      "OME series: not an ome-tiff master file\n",
      "OME series: not an ome-tiff master file\n"
     ]
    },
    {
     "name": "stdout",
     "output_type": "stream",
     "text": [
      "Sum pdf = 100\n",
      "\n",
      "\n",
      "Initial number of spots detected by trackpy: 92\n",
      "Number of spots discarded regarding mass: 6\n",
      "Final number of selected spots: 86\n",
      "\n",
      "\n",
      "\n",
      "\n",
      "\tProcessing image T0_10x10_1_MMStack_2-Pos004_003\n",
      "\n"
     ]
    },
    {
     "name": "stderr",
     "output_type": "stream",
     "text": [
      "OME series: not an ome-tiff master file\n",
      "OME series: not an ome-tiff master file\n",
      "OME series: not an ome-tiff master file\n"
     ]
    },
    {
     "name": "stdout",
     "output_type": "stream",
     "text": [
      "Sum pdf = 100\n",
      "\n",
      "\n",
      "Initial number of spots detected by trackpy: 100\n",
      "Number of spots discarded regarding mass: 5\n",
      "Final number of selected spots: 95\n",
      "\n",
      "\n",
      "\n",
      "\n",
      "\tProcessing image T0_10x10_1_MMStack_2-Pos004_004\n",
      "\n"
     ]
    },
    {
     "name": "stderr",
     "output_type": "stream",
     "text": [
      "OME series: not an ome-tiff master file\n",
      "OME series: not an ome-tiff master file\n",
      "OME series: not an ome-tiff master file\n"
     ]
    },
    {
     "name": "stdout",
     "output_type": "stream",
     "text": [
      "Sum pdf = 100\n",
      "\n",
      "\n",
      "Initial number of spots detected by trackpy: 102\n",
      "Number of spots discarded regarding mass: 6\n",
      "Final number of selected spots: 96\n",
      "\n",
      "\n",
      "\n",
      "\n",
      "\tProcessing image T0_10x10_1_MMStack_2-Pos004_005\n",
      "\n"
     ]
    },
    {
     "name": "stderr",
     "output_type": "stream",
     "text": [
      "OME series: not an ome-tiff master file\n",
      "OME series: not an ome-tiff master file\n",
      "OME series: not an ome-tiff master file\n"
     ]
    },
    {
     "name": "stdout",
     "output_type": "stream",
     "text": [
      "Sum pdf = 100\n",
      "\n",
      "\n",
      "Initial number of spots detected by trackpy: 94\n",
      "Number of spots discarded regarding mass: 5\n",
      "Final number of selected spots: 89\n",
      "\n",
      "\n",
      "\n",
      "\n",
      "\tProcessing image T0_10x10_1_MMStack_2-Pos004_006\n",
      "\n"
     ]
    },
    {
     "name": "stderr",
     "output_type": "stream",
     "text": [
      "OME series: not an ome-tiff master file\n",
      "OME series: not an ome-tiff master file\n",
      "OME series: not an ome-tiff master file\n"
     ]
    },
    {
     "name": "stdout",
     "output_type": "stream",
     "text": [
      "Sum pdf = 100\n",
      "\n",
      "\n",
      "Initial number of spots detected by trackpy: 94\n",
      "Number of spots discarded regarding mass: 4\n",
      "Final number of selected spots: 90\n",
      "\n",
      "\n",
      "\n",
      "\n",
      "\tProcessing image T0_10x10_1_MMStack_2-Pos004_007\n",
      "\n"
     ]
    },
    {
     "name": "stderr",
     "output_type": "stream",
     "text": [
      "OME series: not an ome-tiff master file\n",
      "OME series: not an ome-tiff master file\n",
      "OME series: not an ome-tiff master file\n"
     ]
    },
    {
     "name": "stdout",
     "output_type": "stream",
     "text": [
      "Sum pdf = 100\n",
      "\n",
      "\n",
      "Initial number of spots detected by trackpy: 94\n",
      "Number of spots discarded regarding mass: 4\n",
      "Final number of selected spots: 90\n",
      "\n",
      "\n",
      "\n",
      "\n",
      "\tProcessing image T0_10x10_1_MMStack_2-Pos004_008\n",
      "\n"
     ]
    },
    {
     "name": "stderr",
     "output_type": "stream",
     "text": [
      "OME series: not an ome-tiff master file\n",
      "OME series: not an ome-tiff master file\n",
      "OME series: not an ome-tiff master file\n"
     ]
    },
    {
     "name": "stdout",
     "output_type": "stream",
     "text": [
      "Sum pdf = 100\n",
      "\n",
      "\n",
      "Initial number of spots detected by trackpy: 98\n",
      "Number of spots discarded regarding mass: 6\n",
      "Final number of selected spots: 92\n",
      "\n",
      "\n",
      "\n",
      "\n",
      "\tProcessing image T0_10x10_1_MMStack_2-Pos004_009\n",
      "\n"
     ]
    },
    {
     "name": "stderr",
     "output_type": "stream",
     "text": [
      "OME series: not an ome-tiff master file\n",
      "OME series: not an ome-tiff master file\n",
      "OME series: not an ome-tiff master file\n"
     ]
    },
    {
     "name": "stdout",
     "output_type": "stream",
     "text": [
      "Sum pdf = 100\n",
      "\n",
      "\n",
      "Initial number of spots detected by trackpy: 96\n",
      "Number of spots discarded regarding mass: 5\n",
      "Final number of selected spots: 91\n",
      "\n",
      "\n",
      "\n",
      "#############################\n",
      "     BEADS REGISTRATION \n",
      "#############################\n",
      "\n",
      "\n",
      "\n",
      "\tProcessing image T0_10x10_1_MMStack_2-Pos005_000\n",
      "\n"
     ]
    },
    {
     "name": "stderr",
     "output_type": "stream",
     "text": [
      "OME series: not an ome-tiff master file\n",
      "OME series: not an ome-tiff master file\n",
      "OME series: not an ome-tiff master file\n"
     ]
    },
    {
     "name": "stdout",
     "output_type": "stream",
     "text": [
      "\n",
      "Initial number of spots detected by trackpy: 84\n",
      "Number of spots discarded regarding mass: 2\n",
      "Final number of selected spots: 82\n",
      "\n",
      "\n",
      "\n",
      "\n",
      "\tProcessing image T0_10x10_1_MMStack_2-Pos005_001\n",
      "\n"
     ]
    },
    {
     "name": "stderr",
     "output_type": "stream",
     "text": [
      "OME series: not an ome-tiff master file\n",
      "OME series: not an ome-tiff master file\n",
      "OME series: not an ome-tiff master file\n"
     ]
    },
    {
     "name": "stdout",
     "output_type": "stream",
     "text": [
      "\n",
      "Initial number of spots detected by trackpy: 96\n",
      "Number of spots discarded regarding mass: 4\n",
      "Final number of selected spots: 92\n",
      "\n",
      "\n",
      "\n",
      "\n",
      "\tProcessing image T0_10x10_1_MMStack_2-Pos005_002\n",
      "\n"
     ]
    },
    {
     "name": "stderr",
     "output_type": "stream",
     "text": [
      "OME series: not an ome-tiff master file\n",
      "OME series: not an ome-tiff master file\n",
      "OME series: not an ome-tiff master file\n"
     ]
    },
    {
     "name": "stdout",
     "output_type": "stream",
     "text": [
      "\n",
      "Initial number of spots detected by trackpy: 94\n",
      "Number of spots discarded regarding mass: 2\n",
      "Final number of selected spots: 92\n",
      "\n",
      "\n",
      "\n",
      "\n",
      "\tProcessing image T0_10x10_1_MMStack_2-Pos005_003\n",
      "\n"
     ]
    },
    {
     "name": "stderr",
     "output_type": "stream",
     "text": [
      "OME series: not an ome-tiff master file\n",
      "OME series: not an ome-tiff master file\n",
      "OME series: not an ome-tiff master file\n"
     ]
    },
    {
     "name": "stdout",
     "output_type": "stream",
     "text": [
      "\n",
      "Initial number of spots detected by trackpy: 102\n",
      "Number of spots discarded regarding mass: 5\n",
      "Final number of selected spots: 97\n",
      "\n",
      "\n",
      "\n",
      "\n",
      "\tProcessing image T0_10x10_1_MMStack_2-Pos005_004\n",
      "\n"
     ]
    },
    {
     "name": "stderr",
     "output_type": "stream",
     "text": [
      "OME series: not an ome-tiff master file\n",
      "OME series: not an ome-tiff master file\n",
      "OME series: not an ome-tiff master file\n"
     ]
    },
    {
     "name": "stdout",
     "output_type": "stream",
     "text": [
      "\n",
      "Initial number of spots detected by trackpy: 104\n",
      "Number of spots discarded regarding mass: 4\n",
      "Final number of selected spots: 100\n",
      "\n",
      "\n",
      "\n",
      "\n",
      "\tProcessing image T0_10x10_1_MMStack_2-Pos005_005\n",
      "\n"
     ]
    },
    {
     "name": "stderr",
     "output_type": "stream",
     "text": [
      "OME series: not an ome-tiff master file\n",
      "OME series: not an ome-tiff master file\n",
      "OME series: not an ome-tiff master file\n"
     ]
    },
    {
     "name": "stdout",
     "output_type": "stream",
     "text": [
      "\n",
      "Initial number of spots detected by trackpy: 92\n",
      "Number of spots discarded regarding mass: 4\n",
      "Final number of selected spots: 88\n",
      "\n",
      "\n",
      "\n",
      "\n",
      "\tProcessing image T0_10x10_1_MMStack_2-Pos005_006\n",
      "\n"
     ]
    },
    {
     "name": "stderr",
     "output_type": "stream",
     "text": [
      "OME series: not an ome-tiff master file\n",
      "OME series: not an ome-tiff master file\n",
      "OME series: not an ome-tiff master file\n"
     ]
    },
    {
     "name": "stdout",
     "output_type": "stream",
     "text": [
      "\n",
      "Initial number of spots detected by trackpy: 98\n",
      "Number of spots discarded regarding mass: 3\n",
      "Final number of selected spots: 95\n",
      "\n",
      "\n",
      "\n",
      "\n",
      "\tProcessing image T0_10x10_1_MMStack_2-Pos005_007\n",
      "\n"
     ]
    },
    {
     "name": "stderr",
     "output_type": "stream",
     "text": [
      "OME series: not an ome-tiff master file\n",
      "OME series: not an ome-tiff master file\n",
      "OME series: not an ome-tiff master file\n"
     ]
    },
    {
     "name": "stdout",
     "output_type": "stream",
     "text": [
      "\n",
      "Initial number of spots detected by trackpy: 96\n",
      "Number of spots discarded regarding mass: 4\n",
      "Final number of selected spots: 92\n",
      "\n",
      "\n",
      "\n",
      "\n",
      "\tProcessing image T0_10x10_1_MMStack_2-Pos005_008\n",
      "\n"
     ]
    },
    {
     "name": "stderr",
     "output_type": "stream",
     "text": [
      "OME series: not an ome-tiff master file\n",
      "OME series: not an ome-tiff master file\n",
      "OME series: not an ome-tiff master file\n"
     ]
    },
    {
     "name": "stdout",
     "output_type": "stream",
     "text": [
      "\n",
      "Initial number of spots detected by trackpy: 100\n",
      "Number of spots discarded regarding mass: 5\n",
      "Final number of selected spots: 95\n",
      "\n",
      "\n",
      "\n",
      "\n",
      "\tProcessing image T0_10x10_1_MMStack_2-Pos005_009\n",
      "\n"
     ]
    },
    {
     "name": "stderr",
     "output_type": "stream",
     "text": [
      "OME series: not an ome-tiff master file\n",
      "OME series: not an ome-tiff master file\n",
      "OME series: not an ome-tiff master file\n"
     ]
    },
    {
     "name": "stdout",
     "output_type": "stream",
     "text": [
      "\n",
      "Initial number of spots detected by trackpy: 96\n",
      "Number of spots discarded regarding mass: 6\n",
      "Final number of selected spots: 90\n",
      "\n",
      "\n",
      "\n",
      "\n",
      "\tProcessing image T0_10x10_1_MMStack_2-Pos006_000\n",
      "\n"
     ]
    },
    {
     "name": "stderr",
     "output_type": "stream",
     "text": [
      "OME series: not an ome-tiff master file\n",
      "OME series: not an ome-tiff master file\n",
      "OME series: not an ome-tiff master file\n"
     ]
    },
    {
     "name": "stdout",
     "output_type": "stream",
     "text": [
      "\n",
      "Initial number of spots detected by trackpy: 92\n",
      "Number of spots discarded regarding mass: 3\n",
      "Final number of selected spots: 89\n",
      "\n",
      "\n",
      "\n",
      "\n",
      "\tProcessing image T0_10x10_1_MMStack_2-Pos006_001\n",
      "\n"
     ]
    },
    {
     "name": "stderr",
     "output_type": "stream",
     "text": [
      "OME series: not an ome-tiff master file\n",
      "OME series: not an ome-tiff master file\n",
      "OME series: not an ome-tiff master file\n"
     ]
    },
    {
     "name": "stdout",
     "output_type": "stream",
     "text": [
      "\n",
      "Initial number of spots detected by trackpy: 102\n",
      "Number of spots discarded regarding mass: 5\n",
      "Final number of selected spots: 97\n",
      "\n",
      "\n",
      "\n",
      "\n",
      "\tProcessing image T0_10x10_1_MMStack_2-Pos006_002\n",
      "\n"
     ]
    },
    {
     "name": "stderr",
     "output_type": "stream",
     "text": [
      "OME series: not an ome-tiff master file\n",
      "OME series: not an ome-tiff master file\n",
      "OME series: not an ome-tiff master file\n"
     ]
    },
    {
     "name": "stdout",
     "output_type": "stream",
     "text": [
      "\n",
      "Initial number of spots detected by trackpy: 98\n",
      "Number of spots discarded regarding mass: 5\n",
      "Final number of selected spots: 93\n",
      "\n",
      "\n",
      "\n",
      "\n",
      "\tProcessing image T0_10x10_1_MMStack_2-Pos006_003\n",
      "\n"
     ]
    },
    {
     "name": "stderr",
     "output_type": "stream",
     "text": [
      "OME series: not an ome-tiff master file\n",
      "OME series: not an ome-tiff master file\n",
      "OME series: not an ome-tiff master file\n"
     ]
    },
    {
     "name": "stdout",
     "output_type": "stream",
     "text": [
      "\n",
      "Initial number of spots detected by trackpy: 98\n",
      "Number of spots discarded regarding mass: 4\n",
      "Final number of selected spots: 94\n",
      "\n",
      "\n",
      "\n",
      "\n",
      "\tProcessing image T0_10x10_1_MMStack_2-Pos006_004\n",
      "\n"
     ]
    },
    {
     "name": "stderr",
     "output_type": "stream",
     "text": [
      "OME series: not an ome-tiff master file\n",
      "OME series: not an ome-tiff master file\n",
      "OME series: not an ome-tiff master file\n"
     ]
    },
    {
     "name": "stdout",
     "output_type": "stream",
     "text": [
      "\n",
      "Initial number of spots detected by trackpy: 96\n",
      "Number of spots discarded regarding mass: 4\n",
      "Final number of selected spots: 92\n",
      "\n",
      "\n",
      "\n",
      "\n",
      "\tProcessing image T0_10x10_1_MMStack_2-Pos006_005\n",
      "\n"
     ]
    },
    {
     "name": "stderr",
     "output_type": "stream",
     "text": [
      "OME series: not an ome-tiff master file\n",
      "OME series: not an ome-tiff master file\n",
      "OME series: not an ome-tiff master file\n"
     ]
    },
    {
     "name": "stdout",
     "output_type": "stream",
     "text": [
      "\n",
      "Initial number of spots detected by trackpy: 86\n",
      "Number of spots discarded regarding mass: 3\n",
      "Final number of selected spots: 83\n",
      "\n",
      "\n",
      "\n",
      "\n",
      "\tProcessing image T0_10x10_1_MMStack_2-Pos006_006\n",
      "\n"
     ]
    },
    {
     "name": "stderr",
     "output_type": "stream",
     "text": [
      "OME series: not an ome-tiff master file\n",
      "OME series: not an ome-tiff master file\n",
      "OME series: not an ome-tiff master file\n"
     ]
    },
    {
     "name": "stdout",
     "output_type": "stream",
     "text": [
      "\n",
      "Initial number of spots detected by trackpy: 94\n",
      "Number of spots discarded regarding mass: 3\n",
      "Final number of selected spots: 91\n",
      "\n",
      "\n",
      "\n",
      "\n",
      "\tProcessing image T0_10x10_1_MMStack_2-Pos006_007\n",
      "\n"
     ]
    },
    {
     "name": "stderr",
     "output_type": "stream",
     "text": [
      "OME series: not an ome-tiff master file\n",
      "OME series: not an ome-tiff master file\n",
      "OME series: not an ome-tiff master file\n"
     ]
    },
    {
     "name": "stdout",
     "output_type": "stream",
     "text": [
      "\n",
      "Initial number of spots detected by trackpy: 92\n",
      "Number of spots discarded regarding mass: 3\n",
      "Final number of selected spots: 89\n",
      "\n",
      "\n",
      "\n",
      "\n",
      "\tProcessing image T0_10x10_1_MMStack_2-Pos006_008\n",
      "\n"
     ]
    },
    {
     "name": "stderr",
     "output_type": "stream",
     "text": [
      "OME series: not an ome-tiff master file\n",
      "OME series: not an ome-tiff master file\n",
      "OME series: not an ome-tiff master file\n"
     ]
    },
    {
     "name": "stdout",
     "output_type": "stream",
     "text": [
      "\n",
      "Initial number of spots detected by trackpy: 94\n",
      "Number of spots discarded regarding mass: 3\n",
      "Final number of selected spots: 91\n",
      "\n",
      "\n",
      "\n",
      "\n",
      "\tProcessing image T0_10x10_1_MMStack_2-Pos006_009\n",
      "\n"
     ]
    },
    {
     "name": "stderr",
     "output_type": "stream",
     "text": [
      "OME series: not an ome-tiff master file\n",
      "OME series: not an ome-tiff master file\n",
      "OME series: not an ome-tiff master file\n"
     ]
    },
    {
     "name": "stdout",
     "output_type": "stream",
     "text": [
      "Sum pdf = 100\n",
      "\n",
      "\n",
      "Initial number of spots detected by trackpy: 88\n",
      "Number of spots discarded regarding mass: 4\n",
      "Final number of selected spots: 84\n",
      "\n",
      "\n",
      "\n",
      "\n",
      "\tProcessing image T0_10x10_1_MMStack_2-Pos007_000\n",
      "\n"
     ]
    },
    {
     "name": "stderr",
     "output_type": "stream",
     "text": [
      "OME series: not an ome-tiff master file\n",
      "OME series: not an ome-tiff master file\n",
      "OME series: not an ome-tiff master file\n"
     ]
    },
    {
     "name": "stdout",
     "output_type": "stream",
     "text": [
      "\n",
      "Initial number of spots detected by trackpy: 90\n",
      "Number of spots discarded regarding mass: 3\n",
      "Final number of selected spots: 87\n",
      "\n",
      "\n",
      "\n",
      "\n",
      "\tProcessing image T0_10x10_1_MMStack_2-Pos007_001\n",
      "\n"
     ]
    },
    {
     "name": "stderr",
     "output_type": "stream",
     "text": [
      "OME series: not an ome-tiff master file\n",
      "OME series: not an ome-tiff master file\n",
      "OME series: not an ome-tiff master file\n"
     ]
    },
    {
     "name": "stdout",
     "output_type": "stream",
     "text": [
      "\n",
      "Initial number of spots detected by trackpy: 96\n",
      "Number of spots discarded regarding mass: 4\n",
      "Final number of selected spots: 92\n",
      "\n",
      "\n",
      "\n",
      "\n",
      "\tProcessing image T0_10x10_1_MMStack_2-Pos007_002\n",
      "\n"
     ]
    },
    {
     "name": "stderr",
     "output_type": "stream",
     "text": [
      "OME series: not an ome-tiff master file\n",
      "OME series: not an ome-tiff master file\n",
      "OME series: not an ome-tiff master file\n"
     ]
    },
    {
     "name": "stdout",
     "output_type": "stream",
     "text": [
      "\n",
      "Initial number of spots detected by trackpy: 90\n",
      "Number of spots discarded regarding mass: 2\n",
      "Final number of selected spots: 88\n",
      "\n",
      "\n",
      "\n",
      "\n",
      "\tProcessing image T0_10x10_1_MMStack_2-Pos007_003\n",
      "\n"
     ]
    },
    {
     "name": "stderr",
     "output_type": "stream",
     "text": [
      "OME series: not an ome-tiff master file\n",
      "OME series: not an ome-tiff master file\n",
      "OME series: not an ome-tiff master file\n"
     ]
    },
    {
     "name": "stdout",
     "output_type": "stream",
     "text": [
      "\n",
      "Initial number of spots detected by trackpy: 88\n",
      "Number of spots discarded regarding mass: 3\n",
      "Final number of selected spots: 85\n",
      "\n",
      "\n",
      "\n",
      "\n",
      "\tProcessing image T0_10x10_1_MMStack_2-Pos007_004\n",
      "\n"
     ]
    },
    {
     "name": "stderr",
     "output_type": "stream",
     "text": [
      "OME series: not an ome-tiff master file\n",
      "OME series: not an ome-tiff master file\n",
      "OME series: not an ome-tiff master file\n"
     ]
    },
    {
     "name": "stdout",
     "output_type": "stream",
     "text": [
      "\n",
      "Initial number of spots detected by trackpy: 90\n",
      "Number of spots discarded regarding mass: 3\n",
      "Final number of selected spots: 87\n",
      "\n",
      "\n",
      "\n",
      "\n",
      "\tProcessing image T0_10x10_1_MMStack_2-Pos007_005\n",
      "\n"
     ]
    },
    {
     "name": "stderr",
     "output_type": "stream",
     "text": [
      "OME series: not an ome-tiff master file\n",
      "OME series: not an ome-tiff master file\n",
      "OME series: not an ome-tiff master file\n"
     ]
    },
    {
     "name": "stdout",
     "output_type": "stream",
     "text": [
      "\n",
      "Initial number of spots detected by trackpy: 86\n",
      "Number of spots discarded regarding mass: 3\n",
      "Final number of selected spots: 83\n",
      "\n",
      "\n",
      "\n",
      "\n",
      "\tProcessing image T0_10x10_1_MMStack_2-Pos007_006\n",
      "\n"
     ]
    },
    {
     "name": "stderr",
     "output_type": "stream",
     "text": [
      "OME series: not an ome-tiff master file\n",
      "OME series: not an ome-tiff master file\n",
      "OME series: not an ome-tiff master file\n"
     ]
    },
    {
     "name": "stdout",
     "output_type": "stream",
     "text": [
      "\n",
      "Initial number of spots detected by trackpy: 92\n",
      "Number of spots discarded regarding mass: 2\n",
      "Final number of selected spots: 90\n",
      "\n",
      "\n",
      "\n",
      "\n",
      "\tProcessing image T0_10x10_1_MMStack_2-Pos007_007\n",
      "\n"
     ]
    },
    {
     "name": "stderr",
     "output_type": "stream",
     "text": [
      "OME series: not an ome-tiff master file\n",
      "OME series: not an ome-tiff master file\n",
      "OME series: not an ome-tiff master file\n"
     ]
    },
    {
     "name": "stdout",
     "output_type": "stream",
     "text": [
      "\n",
      "Initial number of spots detected by trackpy: 89\n",
      "Number of spots discarded regarding mass: 1\n",
      "Final number of selected spots: 88\n",
      "\n",
      "\n",
      "\n",
      "\n",
      "\tProcessing image T0_10x10_1_MMStack_2-Pos007_008\n",
      "\n"
     ]
    },
    {
     "name": "stderr",
     "output_type": "stream",
     "text": [
      "OME series: not an ome-tiff master file\n",
      "OME series: not an ome-tiff master file\n",
      "OME series: not an ome-tiff master file\n"
     ]
    },
    {
     "name": "stdout",
     "output_type": "stream",
     "text": [
      "\n",
      "Initial number of spots detected by trackpy: 89\n",
      "Number of spots discarded regarding mass: 3\n",
      "Final number of selected spots: 86\n",
      "\n",
      "\n",
      "\n",
      "\n",
      "\tProcessing image T0_10x10_1_MMStack_2-Pos007_009\n",
      "\n"
     ]
    },
    {
     "name": "stderr",
     "output_type": "stream",
     "text": [
      "OME series: not an ome-tiff master file\n",
      "OME series: not an ome-tiff master file\n",
      "OME series: not an ome-tiff master file\n"
     ]
    },
    {
     "name": "stdout",
     "output_type": "stream",
     "text": [
      "Sum pdf = 100\n",
      "\n",
      "\n",
      "Initial number of spots detected by trackpy: 85\n",
      "Number of spots discarded regarding mass: 4\n",
      "Final number of selected spots: 81\n",
      "\n",
      "\n",
      "\n",
      "\n",
      "\tProcessing image T0_10x10_1_MMStack_2-Pos008_000\n",
      "\n"
     ]
    },
    {
     "name": "stderr",
     "output_type": "stream",
     "text": [
      "OME series: not an ome-tiff master file\n",
      "OME series: not an ome-tiff master file\n",
      "OME series: not an ome-tiff master file\n"
     ]
    },
    {
     "name": "stdout",
     "output_type": "stream",
     "text": [
      "\n",
      "Initial number of spots detected by trackpy: 86\n",
      "Number of spots discarded regarding mass: 3\n",
      "Final number of selected spots: 83\n",
      "\n",
      "\n",
      "\n",
      "\n",
      "\tProcessing image T0_10x10_1_MMStack_2-Pos008_001\n",
      "\n"
     ]
    },
    {
     "name": "stderr",
     "output_type": "stream",
     "text": [
      "OME series: not an ome-tiff master file\n",
      "OME series: not an ome-tiff master file\n",
      "OME series: not an ome-tiff master file\n"
     ]
    },
    {
     "name": "stdout",
     "output_type": "stream",
     "text": [
      "\n",
      "Initial number of spots detected by trackpy: 96\n",
      "Number of spots discarded regarding mass: 4\n",
      "Final number of selected spots: 92\n",
      "\n",
      "\n",
      "\n",
      "\n",
      "\tProcessing image T0_10x10_1_MMStack_2-Pos008_002\n",
      "\n"
     ]
    },
    {
     "name": "stderr",
     "output_type": "stream",
     "text": [
      "OME series: not an ome-tiff master file\n",
      "OME series: not an ome-tiff master file\n",
      "OME series: not an ome-tiff master file\n"
     ]
    },
    {
     "name": "stdout",
     "output_type": "stream",
     "text": [
      "\n",
      "Initial number of spots detected by trackpy: 91\n",
      "Number of spots discarded regarding mass: 3\n",
      "Final number of selected spots: 88\n",
      "\n",
      "\n",
      "\n",
      "\n",
      "\tProcessing image T0_10x10_1_MMStack_2-Pos008_003\n",
      "\n"
     ]
    },
    {
     "name": "stderr",
     "output_type": "stream",
     "text": [
      "OME series: not an ome-tiff master file\n",
      "OME series: not an ome-tiff master file\n",
      "OME series: not an ome-tiff master file\n"
     ]
    },
    {
     "name": "stdout",
     "output_type": "stream",
     "text": [
      "\n",
      "Initial number of spots detected by trackpy: 90\n",
      "Number of spots discarded regarding mass: 4\n",
      "Final number of selected spots: 86\n",
      "\n",
      "\n",
      "\n",
      "\n",
      "\tProcessing image T0_10x10_1_MMStack_2-Pos008_004\n",
      "\n"
     ]
    },
    {
     "name": "stderr",
     "output_type": "stream",
     "text": [
      "OME series: not an ome-tiff master file\n",
      "OME series: not an ome-tiff master file\n",
      "OME series: not an ome-tiff master file\n"
     ]
    },
    {
     "name": "stdout",
     "output_type": "stream",
     "text": [
      "\n",
      "Initial number of spots detected by trackpy: 98\n",
      "Number of spots discarded regarding mass: 4\n",
      "Final number of selected spots: 94\n",
      "\n",
      "\n",
      "\n",
      "\n",
      "\tProcessing image T0_10x10_1_MMStack_2-Pos008_005\n",
      "\n"
     ]
    },
    {
     "name": "stderr",
     "output_type": "stream",
     "text": [
      "OME series: not an ome-tiff master file\n",
      "OME series: not an ome-tiff master file\n",
      "OME series: not an ome-tiff master file\n"
     ]
    },
    {
     "name": "stdout",
     "output_type": "stream",
     "text": [
      "\n",
      "Initial number of spots detected by trackpy: 94\n",
      "Number of spots discarded regarding mass: 4\n",
      "Final number of selected spots: 90\n",
      "\n",
      "\n",
      "\n",
      "\n",
      "\tProcessing image T0_10x10_1_MMStack_2-Pos008_006\n",
      "\n"
     ]
    },
    {
     "name": "stderr",
     "output_type": "stream",
     "text": [
      "OME series: not an ome-tiff master file\n",
      "OME series: not an ome-tiff master file\n",
      "OME series: not an ome-tiff master file\n"
     ]
    },
    {
     "name": "stdout",
     "output_type": "stream",
     "text": [
      "\n",
      "Initial number of spots detected by trackpy: 96\n",
      "Number of spots discarded regarding mass: 2\n",
      "Final number of selected spots: 94\n",
      "\n",
      "\n",
      "\n",
      "\n",
      "\tProcessing image T0_10x10_1_MMStack_2-Pos008_007\n",
      "\n"
     ]
    },
    {
     "name": "stderr",
     "output_type": "stream",
     "text": [
      "OME series: not an ome-tiff master file\n",
      "OME series: not an ome-tiff master file\n",
      "OME series: not an ome-tiff master file\n"
     ]
    },
    {
     "name": "stdout",
     "output_type": "stream",
     "text": [
      "\n",
      "Initial number of spots detected by trackpy: 94\n",
      "Number of spots discarded regarding mass: 2\n",
      "Final number of selected spots: 92\n",
      "\n",
      "\n",
      "\n",
      "\n",
      "\tProcessing image T0_10x10_1_MMStack_2-Pos008_008\n",
      "\n"
     ]
    },
    {
     "name": "stderr",
     "output_type": "stream",
     "text": [
      "OME series: not an ome-tiff master file\n",
      "OME series: not an ome-tiff master file\n",
      "OME series: not an ome-tiff master file\n"
     ]
    },
    {
     "name": "stdout",
     "output_type": "stream",
     "text": [
      "\n",
      "Initial number of spots detected by trackpy: 94\n",
      "Number of spots discarded regarding mass: 3\n",
      "Final number of selected spots: 91\n",
      "\n",
      "\n",
      "\n",
      "\n",
      "\tProcessing image T0_10x10_1_MMStack_2-Pos008_009\n",
      "\n"
     ]
    },
    {
     "name": "stderr",
     "output_type": "stream",
     "text": [
      "OME series: not an ome-tiff master file\n",
      "OME series: not an ome-tiff master file\n",
      "OME series: not an ome-tiff master file\n"
     ]
    },
    {
     "name": "stdout",
     "output_type": "stream",
     "text": [
      "Sum pdf = 100\n",
      "\n",
      "\n",
      "Initial number of spots detected by trackpy: 88\n",
      "Number of spots discarded regarding mass: 4\n",
      "Final number of selected spots: 84\n",
      "\n",
      "\n",
      "\n",
      "\n",
      "\tProcessing image T0_10x10_1_MMStack_2-Pos009_000\n",
      "\n"
     ]
    },
    {
     "name": "stderr",
     "output_type": "stream",
     "text": [
      "OME series: not an ome-tiff master file\n",
      "OME series: not an ome-tiff master file\n",
      "OME series: not an ome-tiff master file\n"
     ]
    },
    {
     "name": "stdout",
     "output_type": "stream",
     "text": [
      "\n",
      "Initial number of spots detected by trackpy: 88\n",
      "Number of spots discarded regarding mass: 3\n",
      "Final number of selected spots: 85\n",
      "\n",
      "\n",
      "\n",
      "\n",
      "\tProcessing image T0_10x10_1_MMStack_2-Pos009_001\n",
      "\n"
     ]
    },
    {
     "name": "stderr",
     "output_type": "stream",
     "text": [
      "OME series: not an ome-tiff master file\n",
      "OME series: not an ome-tiff master file\n",
      "OME series: not an ome-tiff master file\n"
     ]
    },
    {
     "name": "stdout",
     "output_type": "stream",
     "text": [
      "\n",
      "Initial number of spots detected by trackpy: 99\n",
      "Number of spots discarded regarding mass: 5\n",
      "Final number of selected spots: 94\n",
      "\n",
      "\n",
      "\n",
      "\n",
      "\tProcessing image T0_10x10_1_MMStack_2-Pos009_002\n",
      "\n"
     ]
    },
    {
     "name": "stderr",
     "output_type": "stream",
     "text": [
      "OME series: not an ome-tiff master file\n",
      "OME series: not an ome-tiff master file\n",
      "OME series: not an ome-tiff master file\n"
     ]
    },
    {
     "name": "stdout",
     "output_type": "stream",
     "text": [
      "\n",
      "Initial number of spots detected by trackpy: 93\n",
      "Number of spots discarded regarding mass: 3\n",
      "Final number of selected spots: 90\n",
      "\n",
      "\n",
      "\n",
      "\n",
      "\tProcessing image T0_10x10_1_MMStack_2-Pos009_003\n",
      "\n"
     ]
    },
    {
     "name": "stderr",
     "output_type": "stream",
     "text": [
      "OME series: not an ome-tiff master file\n",
      "OME series: not an ome-tiff master file\n",
      "OME series: not an ome-tiff master file\n"
     ]
    },
    {
     "name": "stdout",
     "output_type": "stream",
     "text": [
      "\n",
      "Initial number of spots detected by trackpy: 96\n",
      "Number of spots discarded regarding mass: 5\n",
      "Final number of selected spots: 91\n",
      "\n",
      "\n",
      "\n",
      "\n",
      "\tProcessing image T0_10x10_1_MMStack_2-Pos009_004\n",
      "\n"
     ]
    },
    {
     "name": "stderr",
     "output_type": "stream",
     "text": [
      "OME series: not an ome-tiff master file\n",
      "OME series: not an ome-tiff master file\n",
      "OME series: not an ome-tiff master file\n"
     ]
    },
    {
     "name": "stdout",
     "output_type": "stream",
     "text": [
      "\n",
      "Initial number of spots detected by trackpy: 102\n",
      "Number of spots discarded regarding mass: 6\n",
      "Final number of selected spots: 96\n",
      "\n",
      "\n",
      "\n",
      "\n",
      "\tProcessing image T0_10x10_1_MMStack_2-Pos009_005\n",
      "\n"
     ]
    },
    {
     "name": "stderr",
     "output_type": "stream",
     "text": [
      "OME series: not an ome-tiff master file\n",
      "OME series: not an ome-tiff master file\n",
      "OME series: not an ome-tiff master file\n"
     ]
    },
    {
     "name": "stdout",
     "output_type": "stream",
     "text": [
      "\n",
      "Initial number of spots detected by trackpy: 96\n",
      "Number of spots discarded regarding mass: 5\n",
      "Final number of selected spots: 91\n",
      "\n",
      "\n",
      "\n",
      "\n",
      "\tProcessing image T0_10x10_1_MMStack_2-Pos009_006\n",
      "\n"
     ]
    },
    {
     "name": "stderr",
     "output_type": "stream",
     "text": [
      "OME series: not an ome-tiff master file\n",
      "OME series: not an ome-tiff master file\n",
      "OME series: not an ome-tiff master file\n"
     ]
    },
    {
     "name": "stdout",
     "output_type": "stream",
     "text": [
      "Sum pdf = 100\n",
      "\n",
      "\n",
      "Initial number of spots detected by trackpy: 98\n",
      "Number of spots discarded regarding mass: 3\n",
      "Final number of selected spots: 95\n",
      "\n",
      "\n",
      "\n",
      "\n",
      "\tProcessing image T0_10x10_1_MMStack_2-Pos009_007\n",
      "\n"
     ]
    },
    {
     "name": "stderr",
     "output_type": "stream",
     "text": [
      "OME series: not an ome-tiff master file\n",
      "OME series: not an ome-tiff master file\n",
      "OME series: not an ome-tiff master file\n"
     ]
    },
    {
     "name": "stdout",
     "output_type": "stream",
     "text": [
      "\n",
      "Initial number of spots detected by trackpy: 98\n",
      "Number of spots discarded regarding mass: 3\n",
      "Final number of selected spots: 95\n",
      "\n",
      "\n",
      "\n",
      "\n",
      "\tProcessing image T0_10x10_1_MMStack_2-Pos009_008\n",
      "\n"
     ]
    },
    {
     "name": "stderr",
     "output_type": "stream",
     "text": [
      "OME series: not an ome-tiff master file\n",
      "OME series: not an ome-tiff master file\n",
      "OME series: not an ome-tiff master file\n"
     ]
    },
    {
     "name": "stdout",
     "output_type": "stream",
     "text": [
      "\n",
      "Initial number of spots detected by trackpy: 96\n",
      "Number of spots discarded regarding mass: 3\n",
      "Final number of selected spots: 93\n",
      "\n",
      "\n",
      "\n",
      "\n",
      "\tProcessing image T0_10x10_1_MMStack_2-Pos009_009\n",
      "\n"
     ]
    },
    {
     "name": "stderr",
     "output_type": "stream",
     "text": [
      "OME series: not an ome-tiff master file\n"
     ]
    },
    {
     "name": "stdout",
     "output_type": "stream",
     "text": [
      "Sum pdf = 100\n",
      "\n",
      "\n",
      "Initial number of spots detected by trackpy: 88\n",
      "Number of spots discarded regarding mass: 3\n",
      "Final number of selected spots: 85\n",
      "\n",
      "\n"
     ]
    }
   ],
   "source": [
    "######################\n",
    "# 1. Get Coordinates\n",
    "######################\n",
    "# Check if spots have been previously detected and saved in \n",
    "# the \"path_output_reg\" and \"path_output_test\" directories  \n",
    "if os.path.exists(path_output_reg + \"/coords_W1.csv\"):\n",
    "    c1_ref = np.loadtxt(path_output_reg + \"/coords_W1.csv\", delimiter=\",\")\n",
    "    c2_ref = np.loadtxt(path_output_reg + \"/coords_W2.csv\", delimiter=\",\")\n",
    "else:\n",
    "    # Get coordinates from beads for registration\n",
    "    c2_ref, c1_ref = get_coords(path_output_reg, path_beads_reg, beads_head, diameter=spot_diameter, separation=max_displacement, percentile=percentile, min_mass_cutoff=min_mass, max_mass_cutoff=max_mass, px_size=px_size)\n",
    "\n",
    "if os.path.exists(path_output_test + \"/coords_W1.csv\") and os.path.exists(path_output_test + \"/coords_W2.csv\"):\n",
    "    c1_test = np.loadtxt(path_output_test + \"/coords_W1.csv\", delimiter=\",\")\n",
    "    c2_test = np.loadtxt(path_output_test + \"/coords_W2.csv\", delimiter=\",\")\n",
    "    \n",
    "else:\n",
    "    # Get coordinates from beads for registration\n",
    "    c2_test, c1_test = get_coords(path_output_test, path_beads_test, beads_head, diameter=spot_diameter, separation=max_displacement, percentile=percentile, min_mass_cutoff=min_mass, max_mass_cutoff=max_mass, px_size=px_size)\n"
   ]
  },
  {
   "cell_type": "code",
   "execution_count": 21,
   "id": "dd19a612",
   "metadata": {},
   "outputs": [],
   "source": [
    "plotly_coords(c1_test, c2_test, path=path_output_reg, title=f\"TEST\\n N={len(c1_test)}\")"
   ]
  },
  {
   "cell_type": "markdown",
   "id": "1a82ea9c",
   "metadata": {},
   "source": [
    "<h3>Step 2</h3>\n",
    "\n",
    "Apply local affine (piecewise) transformation to the TEST dataset from the REF dataset"
   ]
  },
  {
   "cell_type": "code",
   "execution_count": 22,
   "id": "774e5489",
   "metadata": {},
   "outputs": [
    {
     "name": "stdout",
     "output_type": "stream",
     "text": [
      "Your Search Range Parameters for Local Affine are:\n",
      "\t Search Range: 31.0 nm\n",
      "\t Minim Fiducials: 10\n",
      "\t Pixel Size is: 64.5 nm\n"
     ]
    }
   ],
   "source": [
    "print(\"Your Search Range Parameters for Local Affine are:\\n\"\n",
    "     f\"\\t Search Range: {search_range} nm\\n\"\n",
    "     f\"\\t Minim Fiducials: {min_fiducials}\\n\"\n",
    "     f\"\\t Pixel Size is: {px_size} nm\")"
   ]
  },
  {
   "cell_type": "code",
   "execution_count": 23,
   "id": "3704de15",
   "metadata": {},
   "outputs": [],
   "source": [
    "%matplotlib inline\n",
    "######################\n",
    "# 2. Piecewise Affine\n",
    "######################\n",
    "c1_test_new = np.empty_like(c1_test)\n",
    "for i in range(len(c1_test)):\n",
    "    c1_test_new[i] = piecewise_affine(c1_test[i], c1_ref, c2_ref, search_range=search_range, min_candidates=min_fiducials)\n",
    "    if c1_test_new[i][0] == np.nan:\n",
    "        sys.stderr.write(f\"Coord {c1_test[i]} cannot be locally corrected, no neighbours found!\\n\")\n",
    "# Plot and save coordinates\n",
    "# plotly_coords(c1_test, c2_test, path=path_output_test, c1_corrected=c1_test_new, title=f\"TEST\\n N={len(c1_test)}\")"
   ]
  },
  {
   "cell_type": "markdown",
   "id": "c28945f8",
   "metadata": {},
   "source": [
    "<h3>Step 3</h3>\n",
    "\n",
    "Calculate the Target Registration Error and plot the distances between c1-c2 TEST beads before and after the piecewise affine transformation"
   ]
  },
  {
   "cell_type": "code",
   "execution_count": 24,
   "id": "118d2494",
   "metadata": {
    "scrolled": false
   },
   "outputs": [
    {
     "name": "stdout",
     "output_type": "stream",
     "text": [
      "Mean shift in X axis =  0.569 nm \n",
      "\n",
      "Mean shift in Y axis =  0.966 nm \n",
      "\n",
      "Target Registration Error (TRE) = 1.122 nm\n"
     ]
    },
    {
     "data": {
      "image/png": "[encoded data removed]",
      "text/plain": [
       "<Figure size 1080x1080 with 1 Axes>"
      ]
     },
     "metadata": {
      "needs_background": "light"
     },
     "output_type": "display_data"
    },
    {
     "data": {
      "text/plain": [
       "<Figure size 1080x1080 with 0 Axes>"
      ]
     },
     "metadata": {},
     "output_type": "display_data"
    },
    {
     "data": {
      "text/plain": [
       "<Figure size 1080x1080 with 0 Axes>"
      ]
     },
     "metadata": {},
     "output_type": "display_data"
    }
   ],
   "source": [
    "######################\n",
    "# 3. Calculate TRE\n",
    "######################\n",
    "plot_distance_distribution(path_output_test, c2_test, c1_test, c1_test_new, px_size=px_size)\n",
    "calculate_tre(path_output_test, c2_test, c1_test, c1_test_new, px_size=px_size)"
   ]
  },
  {
   "cell_type": "markdown",
   "id": "ef427167",
   "metadata": {},
   "source": [
    "## END\n"
   ]
  }
 ],
 "metadata": {
  "kernelspec": {
   "display_name": "Python 3.7",
   "language": "python",
   "name": "py37"
  },
  "language_info": {
   "codemirror_mode": {
    "name": "ipython",
    "version": 3
   },
   "file_extension": ".py",
   "mimetype": "text/x-python",
   "name": "python",
   "nbconvert_exporter": "python",
   "pygments_lexer": "ipython3",
   "version": "3.7.7"
  }
 },
 "nbformat": 4,
 "nbformat_minor": 5
}
