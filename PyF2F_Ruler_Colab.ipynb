{
  "cells": [
    {
      "cell_type": "markdown",
      "metadata": {
        "id": "view-in-github",
        "colab_type": "text"
      },
      "source": [
        "<a href=\"https://colab.research.google.com/github/GallegoLab/PyF2F-Ruler/blob/main/PyF2F_Ruler_Colab.ipynb\" target=\"_parent\"><img src=\"https://colab.research.google.com/assets/colab-badge.svg\" alt=\"Open In Colab\"/></a>"
      ]
    },
    {
      "cell_type": "markdown",
      "metadata": {
        "id": "MGMMd5HwWQYl"
      },
      "source": [
        "# Welcome to PyF2F-Ruler <br> \n",
        "In this tutorial, we provide the code to run:\n",
        "\n",
        "1. **Image Registration** to correct for the chromatic shift in the two-channel images during the adquisition. \n",
        "\n",
        "2. **Distance Estimation** workflow to determine the distance between two fluorescent markers.\n",
        "\n",
        "This notebook runs through an `example` dataset provided in our [GitHub](https://github.com/GallegoLab/PyF2F-Ruler). We provide instructions to run this code with another dataset below. <br><br>\n",
        "For more details, checkout our [GitHub](https://github.com/GallegoLab/PyF2F-Ruler)."
      ]
    },
    {
      "cell_type": "code",
      "source": [
        "#@title Install PyF2F-Ruler\n",
        "\n",
        "#@markdown Please execute this cell by pressing the _Play_ button\n",
        "#@markdown on the left to download and install PyF2F-Ruler software\n",
        "#@markdown in this Colab notebook. \n",
        "\n",
        "#@markdown **Note**: This installs the software on the Colab\n",
        "#@markdown notebook in the cloud and not on your computer.\n",
        "%env PYTHONPATH = \n",
        "! wget https://repo.anaconda.com/miniconda/Miniconda3-py37_23.1.0-1-Linux-x86_64.sh\n",
        "! chmod +x Miniconda3-py37_23.1.0-1-Linux-x86_64.sh\n",
        "! bash ./Miniconda3-py37_23.1.0-1-Linux-x86_64.sh -b -f -p /usr/local/\n",
        "!conda install --channel defaults conda python=3.7 --yes\n",
        "\n",
        "\n",
        "# Clone github and install requirements to run PyF2F-Ruler\n",
        "!git clone https://github.com/GallegoLab/PyF2F-Ruler\n",
        "%cd PyF2F-Ruler\n",
        "!pip install -r requirements.txt\n",
        "!conda install ipykernel --yes\n",
        "!pip install protobuf==3.20.*  # to make tensorflow work properly\n",
        "!pip install zenodo-get        # to get zenodo weights.zip file\n",
        "\n"
      ],
      "metadata": {
        "id": "TblsYBfKPBGH",
        "cellView": "form"
      },
      "execution_count": null,
      "outputs": []
    },
    {
      "cell_type": "markdown",
      "source": [
        "## Running PyF2F-Ruler\n",
        "\n",
        "Please set the `parameters` required to run the **image registration**\n",
        "and **distance estimation** workflows. Then hit `Runtime` -> `Run after`.<br>\n",
        "\n",
        "You can also run the cells individually by pressing the *Play* button on the left. <br>\n",
        "\n",
        "You can find a detailed explanation about PyF2F-Ruler's workflow and a step-by-step tutorial in the [GitHub](https://github.com/GallegoLab/PyF2F-Ruler). "
      ],
      "metadata": {
        "id": "64MD7Ft6SCcT"
      }
    },
    {
      "cell_type": "code",
      "source": [
        "#@title Set parameters to run PyF2F ⬇️\n",
        "#@markdown Please set the `parameters` required to run the **image registration**\n",
        "#@markdown and **distance estimation** workflows:\n",
        "#@markdown ###**Parameters:**\n",
        "# , then hit `Runtime` -> `Run all`\n",
        "import os\n",
        "if not os.getcwd() == \"/content/PyF2F-Ruler/scripts/\":\n",
        "  os.chdir(\"/content/PyF2F-Ruler/scripts/\")\n",
        "job_name = 'example'                    #@param {type:\"string\"}\n",
        "pixel_size = 64.5                  #@param [64.5, 110] {type:\"raw\"}\n",
        "# Define spot diameter\n",
        "if pixel_size == 64.5:\n",
        "  spot_diameter = int(11)\n",
        "elif pixel_size == 110:\n",
        "  spot_diameter = int(7)\n",
        "\n",
        "# spot detection: sort spots below this percentile of intensity \n",
        "percentile = 99.8                  #@param {type:\"raw\"}\n",
        "# linking: link spots from ch1-ch2 channels separated by this cutoff in px\n",
        "max_displacement = 2               #@param {type:\"raw\"}\n",
        "\n",
        "#@markdown **Image Registration:** \n",
        "beads_head = '*.tif'               #@param {type:\"string\"}\n",
        "beads_reg_dir = 'reg'               #@param {type:\"string\"}\n",
        "beads_test_dir = 'test'             #@param {type:\"string\"}\n",
        "# Create directories for output\n",
        "out_reg_dir = 'out_reg'         #@param {type:\"string\"}\n",
        "out_test_dir = 'out_test'       #@param {type:\"string\"}\n",
        "# Bead detection based on light properties\n",
        "# spot detection: sort spots with a mass above this threshold (range 0-1). \n",
        "min_mass = 0.01                    #@param {type:\"raw\"}\n",
        "# spot detection: sort spots with a mass below this threshold (range 0-1).\n",
        "max_mass =0.95                     #@param {type:\"raw\"}\n",
        "\n",
        "#@markdown **Distance Estimation :**\n",
        "rolling_ball_radius = 70                    #@param {type:\"raw\"}\n",
        "median_filter = 10                          #@param {type:\"raw\"}\n",
        "contour_cutoff = 13                         #@param {type:\"raw\"}\n",
        "neigh_cutoff = 9                            #@param {type:\"raw\"}\n",
        "kde_cutoff = 0.5                            #@param {type:\"raw\"}\n",
        "gaussian_cutoff = 0.35                      #@param {type:\"raw\"}\n",
        "mle_cutoff = 0.66                           #@param {type:\"raw\"}\n",
        "\n",
        "#@markdown Select the following checkbox to perform a the image registration with a \n",
        "#@markdown global or local affine transformation.\n",
        "\n",
        "# Select between 'global' or 'local' registration \n",
        "global_registration = True #@param {type:\"boolean\"}\n",
        "local_registration = False #@param {type:\"boolean\"}\n",
        "# local registration: max distance in px for nearest-neighbour search\n",
        "search_range = 2000 // pixel_size  #local registration: max distance in px for nearest-neighbour search\n",
        "min_fiducials = 10                 #local registration: minimum number of fiducial markers to correct locally \n",
        "\n",
        "#@markdown \n",
        "#@markdown \n",
        "#@markdown You may want to track the spot detection and selection along the \n",
        "#@markdown process. The following checkbox will generate HTML outputs for each \n",
        "#@markdown step of the process (will run slower).\n",
        "do_html_plots = True #@param {type:\"boolean\"}\n",
        "\n",
        "# Paths to directories where Beads_reg and Beads_test\n",
        "path_beads_reg = f\"../{job_name}/input/{beads_reg_dir}/\"\n",
        "path_beads_test = f\"../{job_name}/input/{beads_test_dir}/\"\n",
        "\n",
        "path_output_reg = f\"../{job_name}/input/{out_reg_dir}/\"\n",
        "path_output_test = f\"../{job_name}/input/{out_test_dir}/\"\n",
        "\n",
        "if not os.path.exists(path_output_reg):\n",
        "    os.mkdir(path_output_reg)\n",
        "    \n",
        "if not os.path.exists(path_output_test):\n",
        "    os.mkdir(path_output_test)\n",
        "\n",
        "# Get weights.zip file from Zenodo repo with record ID 3598690\n",
        "!zenodo_get -r 3598690\n",
        "!unzip weights.zip\n",
        "!rm weights.zip\n",
        "\n"
      ],
      "metadata": {
        "cellView": "form",
        "id": "NDcXg68pPBIU"
      },
      "execution_count": null,
      "outputs": []
    },
    {
      "cell_type": "code",
      "source": [
        "#@title 1. Run Image Registration protocol \n",
        "if global_registration:\n",
        "  if do_html_plots:\n",
        "    !python3 PyF2F_image_registration.py -bri $path_beads_reg -bti $path_beads_test -bro $path_output_reg -bto $path_output_test --name $beads_head -px $pixel_size -sd $spot_diameter -pc $percentile --min_mass $min_mass --max_mass $max_mass -l $max_displacement --global --plot\n",
        "  else:\n",
        "    !python3 PyF2F_image_registration.py -bri $path_beads_reg -bti $path_beads_test -bro $path_output_reg -bto $path_output_test --name $beads_head -px $pixel_size -sd $spot_diameter -pc $percentile --min_mass $min_mass --max_mass $max_mass -l $max_displacement --global\n",
        "if local_registration:\n",
        "  if do_html_plots:\n",
        "    !python3 PyF2F_image_registration.py -bri $path_beads_reg -bti $path_beads_test -bro $path_output_reg -bto $path_output_test --name $beads_head -px $pixel_size -sd $spot_diameter -pc $percentile --min_mass $min_mass --max_mass $max_mass -l $max_displacement -s $search_range --min_fiducials $min_fiducials --plot\n",
        "  else:\n",
        "    !python3 PyF2F_image_registration.py -bri $path_beads_reg -bti $path_beads_test -bro $path_output_reg -bto $path_output_test --name $beads_head -px $pixel_size -sd $spot_diameter -pc $percentile --min_mass $min_mass --max_mass $max_mass -l $max_displacement -s $search_range --min_fiducials $min_fiducials  "
      ],
      "metadata": {
        "id": "Sq4dN0G2rF5j",
        "cellView": "form"
      },
      "execution_count": null,
      "outputs": []
    },
    {
      "cell_type": "code",
      "source": [
        "#@title 2. Download Image Registration Results \n",
        "from google.colab import files\n",
        "!zip -r /content/PyF2F-Ruler/example/input/registration.zip /content/PyF2F-Ruler/example/input/$out_test_dir\n",
        "files.download('/content/PyF2F-Ruler/example/input/registration.zip') "
      ],
      "metadata": {
        "id": "oN1zWGH1rGD-",
        "cellView": "form"
      },
      "execution_count": null,
      "outputs": []
    },
    {
      "cell_type": "code",
      "source": [
        "#@title 3. Run Distance Estimation protocol\n",
        "if global_registration:\n",
        "  if do_html_plots:\n",
        "    !python3 Pyf2f_main.py -d ../$job_name/ --px_size $pixel_size --rolling_ball_radius $rolling_ball_radius --median_filter $median_filter --particle_diameter $spot_diameter --percentile $percentile --max_displacement $max_displacement --contour_cutoff $contour_cutoff --neigh_cutoff $neigh_cutoff --kde_cutoff $kde_cutoff --gaussian_cutoff $gaussian_cutoff --mle_cutoff $mle_cutoff --dirty\n",
        "  else:\n",
        "    !python3 Pyf2f_main.py -d ../$job_name/ --px_size $pixel_size --rolling_ball_radius $rolling_ball_radius --median_filter $median_filter --particle_diameter $spot_diameter --percentile $percentile --max_displacement $max_displacement --contour_cutoff $contour_cutoff --neigh_cutoff $neigh_cutoff --kde_cutoff $kde_cutoff --gaussian_cutoff $gaussian_cutoff --mle_cutoff $mle_cutoff \n",
        "if local_registration:\n",
        "  if do_html_plots:\n",
        "    !python3 Pyf2f_main.py -d ../$job_name/ --px_size $pixel_size --rolling_ball_radius $rolling_ball_radius --median_filter $median_filter --particle_diameter $spot_diameter --percentile $percentile --max_displacement $max_displacement --contour_cutoff $contour_cutoff --neigh_cutoff $neigh_cutoff --kde_cutoff $kde_cutoff --gaussian_cutoff $gaussian_cutoff --mle_cutoff $mle_cutoff --local_transformation --dirty\n",
        "  else:\n",
        "    !python3 Pyf2f_main.py -d ../$job_name/ --px_size $pixel_size --rolling_ball_radius $rolling_ball_radius --median_filter $median_filter --particle_diameter $spot_diameter --percentile $percentile --max_displacement $max_displacement --contour_cutoff $contour_cutoff --neigh_cutoff $neigh_cutoff --kde_cutoff $kde_cutoff --gaussian_cutoff $gaussian_cutoff --mle_cutoff $mle_cutoff --local_transformation"
      ],
      "metadata": {
        "id": "LpkrX3U-PBM8",
        "cellView": "form"
      },
      "execution_count": null,
      "outputs": []
    },
    {
      "cell_type": "code",
      "source": [
        "#@title 4. Package and Download All Results \n",
        "from google.colab import files\n",
        "!zip -r /content/PyF2F-Ruler/results.zip /content/PyF2F-Ruler/example/\n",
        "files.download(f'/content/PyF2F-Ruler/results.zip') "
      ],
      "metadata": {
        "cellView": "form",
        "id": "4pzJwefgZ_nO"
      },
      "execution_count": null,
      "outputs": []
    },
    {
      "cell_type": "markdown",
      "metadata": {
        "id": "XPve2mc2cXcb"
      },
      "source": [
        "# Instructions\n",
        "**Quick start**\n",
        "1. Set parameters for the image registration and distance estimation workflows.\n",
        "2. Press `Runtime` -> `Run after`.\n",
        "3. The pipeline consists of 4 steps. The currently running step is indicated by a circle with a stop sign next to it.\n",
        "\n",
        "**Running the *example* dataset**\n",
        "\n",
        "The pipeline will run through the '*example*' dataset used in [Picco et al., 2017](https://www.sciencedirect.com/science/article/pii/S0092867417300521) which corresponds to the distance between the Sec5-GFP (exocyst subunit) and the anchor Sla2-RFP-FKBP, using Exo70-FRB as bait. The dataset is cloned from our [GitHub repository](https://github.com/GallegoLab/PyF2F-Ruler).<br><br>\n",
        "\n",
        "The '*example*' folder has the following structure:<br>\n",
        "\n",
        "*example*/\n",
        "> *input*/\n",
        ">>    *pict_images*/ --> where the PICT images are.  <br>\n",
        ">>    *reg*/ --> Beads set to create the registration map.  <br>\n",
        ">>    *test*/ --> Beads set to test the image registration.  <br>\n",
        "\n",
        "\n",
        "**Result zip file contents**\n",
        "\n",
        "At the end of the job, the *example/output/* directory is packed and downloaded as *results.zip*. In this folder you will find the following subfolders:\n",
        "\n",
        "*   *images/* contains the pre-processed images.\n",
        "*   *spots/*: contains the data from spot detection on your PICT images.\n",
        "*   *segmentation/*: contains the segmented images, masks, and contour images.\n",
        "*   *results/*: contains the resulting files from each processing/analysis step\n",
        "*   *figures/*: contains HTML and png files to get track of the detected and selected spots for each image, on each step, as well as the distance distribution for each step. It also contains PDF file with the final distance distribution and the $μ$ and $σ$ estimations.<br>"
      ]
    },
    {
      "cell_type": "code",
      "source": [],
      "metadata": {
        "id": "TxIykedrYAUJ"
      },
      "execution_count": null,
      "outputs": []
    }
  ],
  "metadata": {
    "colab": {
      "provenance": [],
      "include_colab_link": true
    },
    "kernelspec": {
      "display_name": "Python 3",
      "name": "python3"
    },
    "language_info": {
      "name": "python"
    }
  },
  "nbformat": 4,
  "nbformat_minor": 0
}