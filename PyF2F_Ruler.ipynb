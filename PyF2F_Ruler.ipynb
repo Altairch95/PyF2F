{
  "nbformat": 4,
  "nbformat_minor": 0,
  "metadata": {
    "colab": {
      "provenance": [],
      "include_colab_link": true
    },
    "kernelspec": {
      "name": "python3",
      "display_name": "Python 3"
    },
    "language_info": {
      "name": "python"
    }
  },
  "cells": [
    {
      "cell_type": "markdown",
      "metadata": {
        "id": "view-in-github",
        "colab_type": "text"
      },
      "source": [
        "<a href=\"https://colab.research.google.com/github/GallegoLab/PyF2F-Ruler/blob/main/PyF2F_Ruler.ipynb\" target=\"_parent\"><img src=\"https://colab.research.google.com/assets/colab-badge.svg\" alt=\"Open In Colab\"/></a>"
      ]
    },
    {
      "cell_type": "markdown",
      "source": [
        "# Welcome to PyF2F-Ruler <br> \n",
        "In this tutorial, we provide the code to run:\n",
        "\n",
        "1) **Image Registration** of two-channel images using TetraSpeck beads as fiducial markers. PyF2F-Ruler applyes a local affine transformation to calculate the registration map and correct the chromatic shift between the two color positions.\n",
        "\n",
        "Image Analysis to estimate distances between fluorophores flagging the subunits of the exocyst complex.\n",
        "\n",
        "2) **Image Analysis** pipeline to estimate the distance between two fluorescent markers that label a protein complex of interest.\n",
        "\n",
        "For more details, checkout our [GitHub](https://github.com/GallegoLab/PyF2F-Ruler)."
      ],
      "metadata": {
        "id": "MGMMd5HwWQYl"
      }
    },
    {
      "cell_type": "markdown",
      "source": [
        "# Install Dependencies"
      ],
      "metadata": {
        "id": "hqpR1cyVclJl"
      }
    },
    {
      "cell_type": "code",
      "source": [
        "!git clone https://github.com/GallegoLab/PyF2F-Ruler\n",
        "%cd PyF2F-Ruler"
      ],
      "metadata": {
        "colab": {
          "base_uri": "https://localhost:8080/"
        },
        "id": "LNETOCaOc1km",
        "outputId": "ea4e6222-6405-41bf-cec6-2ae18f17332a"
      },
      "execution_count": null,
      "outputs": [
        {
          "output_type": "stream",
          "name": "stdout",
          "text": [
            "Cloning into 'PyF2F-Ruler'...\n",
            "remote: Enumerating objects: 152, done.\u001b[K\n",
            "remote: Counting objects: 100% (58/58), done.\u001b[K\n",
            "remote: Compressing objects: 100% (57/57), done.\u001b[K\n",
            "remote: Total 152 (delta 9), reused 0 (delta 0), pack-reused 94\u001b[K\n",
            "Receiving objects: 100% (152/152), 75.25 MiB | 9.97 MiB/s, done.\n",
            "Resolving deltas: 100% (15/15), done.\n",
            "Updating files: 100% (115/115), done.\n",
            "/content/PyF2F-Ruler/scripts/PyF2F-Ruler\n"
          ]
        }
      ]
    },
    {
      "cell_type": "code",
      "source": [
        "!pip install -r scripts/requirements.txt"
      ],
      "metadata": {
        "id": "C7QoZcBqiujg",
        "outputId": "28506269-a374-4334-b891-42103417e50f",
        "colab": {
          "base_uri": "https://localhost:8080/"
        }
      },
      "execution_count": null,
      "outputs": [
        {
          "output_type": "stream",
          "name": "stdout",
          "text": [
            "Looking in indexes: https://pypi.org/simple, https://us-python.pkg.dev/colab-wheels/public/simple/\n",
            "Requirement already satisfied: h5py==2.10.0 in /usr/local/lib/python3.10/dist-packages (from -r scripts/requirements.txt (line 1)) (2.10.0)\n",
            "Requirement already satisfied: imgaug==0.4.0 in /usr/local/lib/python3.10/dist-packages (from -r scripts/requirements.txt (line 2)) (0.4.0)\n",
            "Requirement already satisfied: ipython==8.13.2 in /usr/local/lib/python3.10/dist-packages (from -r scripts/requirements.txt (line 3)) (8.13.2)\n",
            "Requirement already satisfied: Keras in /usr/local/lib/python3.10/dist-packages (from -r scripts/requirements.txt (line 4)) (2.11.0)\n",
            "Requirement already satisfied: lmfit==1.0.3 in /usr/local/lib/python3.10/dist-packages (from -r scripts/requirements.txt (line 5)) (1.0.3)\n",
            "Requirement already satisfied: matplotlib==3.5.1 in /usr/local/lib/python3.10/dist-packages (from -r scripts/requirements.txt (line 6)) (3.5.1)\n",
            "Requirement already satisfied: numpy==1.21.2 in /usr/local/lib/python3.10/dist-packages (from -r scripts/requirements.txt (line 7)) (1.21.2)\n",
            "Requirement already satisfied: opencv_python==4.5.5.62 in /usr/local/lib/python3.10/dist-packages (from -r scripts/requirements.txt (line 8)) (4.5.5.62)\n",
            "Requirement already satisfied: pandas==1.3.5 in /usr/local/lib/python3.10/dist-packages (from -r scripts/requirements.txt (line 9)) (1.3.5)\n",
            "Requirement already satisfied: Pillow==9.5.0 in /usr/local/lib/python3.10/dist-packages (from -r scripts/requirements.txt (line 10)) (9.5.0)\n",
            "Requirement already satisfied: PIMS==0.5 in /usr/local/lib/python3.10/dist-packages (from -r scripts/requirements.txt (line 11)) (0.5)\n",
            "Requirement already satisfied: plotly==5.3.1 in /usr/local/lib/python3.10/dist-packages (from -r scripts/requirements.txt (line 12)) (5.3.1)\n",
            "Requirement already satisfied: pymicro==0.5.1 in /usr/local/lib/python3.10/dist-packages (from -r scripts/requirements.txt (line 13)) (0.5.1)\n",
            "Requirement already satisfied: pystackreg==0.2.5 in /usr/local/lib/python3.10/dist-packages (from -r scripts/requirements.txt (line 14)) (0.2.5)\n",
            "Requirement already satisfied: scikit_image==0.19.2 in /usr/local/lib/python3.10/dist-packages (from -r scripts/requirements.txt (line 15)) (0.19.2)\n",
            "Requirement already satisfied: scipy==1.7.3 in /usr/local/lib/python3.10/dist-packages (from -r scripts/requirements.txt (line 16)) (1.7.3)\n",
            "Requirement already satisfied: seaborn==0.12.2 in /usr/local/lib/python3.10/dist-packages (from -r scripts/requirements.txt (line 17)) (0.12.2)\n",
            "Requirement already satisfied: silence_tensorflow==1.2.0 in /usr/local/lib/python3.10/dist-packages (from -r scripts/requirements.txt (line 18)) (1.2.0)\n",
            "Requirement already satisfied: tensorflow in /usr/local/lib/python3.10/dist-packages (from -r scripts/requirements.txt (line 19)) (2.11.1)\n",
            "Requirement already satisfied: trackpy==0.5.0 in /usr/local/lib/python3.10/dist-packages (from -r scripts/requirements.txt (line 20)) (0.5.0)\n",
            "Requirement already satisfied: six in /usr/local/lib/python3.10/dist-packages (from h5py==2.10.0->-r scripts/requirements.txt (line 1)) (1.16.0)\n",
            "Requirement already satisfied: imageio in /usr/local/lib/python3.10/dist-packages (from imgaug==0.4.0->-r scripts/requirements.txt (line 2)) (2.25.1)\n",
            "Requirement already satisfied: Shapely in /usr/local/lib/python3.10/dist-packages (from imgaug==0.4.0->-r scripts/requirements.txt (line 2)) (2.0.1)\n",
            "Requirement already satisfied: backcall in /usr/local/lib/python3.10/dist-packages (from ipython==8.13.2->-r scripts/requirements.txt (line 3)) (0.2.0)\n",
            "Requirement already satisfied: decorator in /usr/local/lib/python3.10/dist-packages (from ipython==8.13.2->-r scripts/requirements.txt (line 3)) (4.4.2)\n",
            "Requirement already satisfied: jedi>=0.16 in /usr/local/lib/python3.10/dist-packages (from ipython==8.13.2->-r scripts/requirements.txt (line 3)) (0.18.2)\n",
            "Requirement already satisfied: matplotlib-inline in /usr/local/lib/python3.10/dist-packages (from ipython==8.13.2->-r scripts/requirements.txt (line 3)) (0.1.6)\n",
            "Requirement already satisfied: pickleshare in /usr/local/lib/python3.10/dist-packages (from ipython==8.13.2->-r scripts/requirements.txt (line 3)) (0.7.5)\n",
            "Requirement already satisfied: prompt-toolkit!=3.0.37,<3.1.0,>=3.0.30 in /usr/local/lib/python3.10/dist-packages (from ipython==8.13.2->-r scripts/requirements.txt (line 3)) (3.0.38)\n",
            "Requirement already satisfied: pygments>=2.4.0 in /usr/local/lib/python3.10/dist-packages (from ipython==8.13.2->-r scripts/requirements.txt (line 3)) (2.14.0)\n",
            "Requirement already satisfied: stack-data in /usr/local/lib/python3.10/dist-packages (from ipython==8.13.2->-r scripts/requirements.txt (line 3)) (0.6.2)\n",
            "Requirement already satisfied: traitlets>=5 in /usr/local/lib/python3.10/dist-packages (from ipython==8.13.2->-r scripts/requirements.txt (line 3)) (5.7.1)\n",
            "Requirement already satisfied: pexpect>4.3 in /usr/local/lib/python3.10/dist-packages (from ipython==8.13.2->-r scripts/requirements.txt (line 3)) (4.8.0)\n",
            "Requirement already satisfied: asteval>=0.9.22 in /usr/local/lib/python3.10/dist-packages (from lmfit==1.0.3->-r scripts/requirements.txt (line 5)) (0.9.29)\n",
            "Requirement already satisfied: uncertainties>=3.0.1 in /usr/local/lib/python3.10/dist-packages (from lmfit==1.0.3->-r scripts/requirements.txt (line 5)) (3.1.7)\n",
            "Requirement already satisfied: cycler>=0.10 in /usr/local/lib/python3.10/dist-packages (from matplotlib==3.5.1->-r scripts/requirements.txt (line 6)) (0.11.0)\n",
            "Requirement already satisfied: fonttools>=4.22.0 in /usr/local/lib/python3.10/dist-packages (from matplotlib==3.5.1->-r scripts/requirements.txt (line 6)) (4.39.3)\n",
            "Requirement already satisfied: kiwisolver>=1.0.1 in /usr/local/lib/python3.10/dist-packages (from matplotlib==3.5.1->-r scripts/requirements.txt (line 6)) (1.4.4)\n",
            "Requirement already satisfied: packaging>=20.0 in /usr/local/lib/python3.10/dist-packages (from matplotlib==3.5.1->-r scripts/requirements.txt (line 6)) (23.1)\n",
            "Requirement already satisfied: pyparsing>=2.2.1 in /usr/local/lib/python3.10/dist-packages (from matplotlib==3.5.1->-r scripts/requirements.txt (line 6)) (3.0.9)\n",
            "Requirement already satisfied: python-dateutil>=2.7 in /usr/local/lib/python3.10/dist-packages (from matplotlib==3.5.1->-r scripts/requirements.txt (line 6)) (2.8.2)\n",
            "Requirement already satisfied: pytz>=2017.3 in /usr/local/lib/python3.10/dist-packages (from pandas==1.3.5->-r scripts/requirements.txt (line 9)) (2022.7.1)\n",
            "Requirement already satisfied: slicerator>=0.9.8 in /usr/local/lib/python3.10/dist-packages (from PIMS==0.5->-r scripts/requirements.txt (line 11)) (1.1.0)\n",
            "Requirement already satisfied: tenacity>=6.2.0 in /usr/local/lib/python3.10/dist-packages (from plotly==5.3.1->-r scripts/requirements.txt (line 12)) (8.2.2)\n",
            "Requirement already satisfied: tqdm in /usr/local/lib/python3.10/dist-packages (from pystackreg==0.2.5->-r scripts/requirements.txt (line 14)) (4.65.0)\n",
            "Requirement already satisfied: networkx>=2.2 in /usr/local/lib/python3.10/dist-packages (from scikit_image==0.19.2->-r scripts/requirements.txt (line 15)) (3.1)\n",
            "Requirement already satisfied: tifffile>=2019.7.26 in /usr/local/lib/python3.10/dist-packages (from scikit_image==0.19.2->-r scripts/requirements.txt (line 15)) (2023.4.12)\n",
            "Requirement already satisfied: PyWavelets>=1.1.1 in /usr/local/lib/python3.10/dist-packages (from scikit_image==0.19.2->-r scripts/requirements.txt (line 15)) (1.4.1)\n",
            "Requirement already satisfied: pyyaml in /usr/local/lib/python3.10/dist-packages (from trackpy==0.5.0->-r scripts/requirements.txt (line 20)) (6.0)\n",
            "Requirement already satisfied: absl-py>=1.0.0 in /usr/local/lib/python3.10/dist-packages (from tensorflow->-r scripts/requirements.txt (line 19)) (1.4.0)\n",
            "Requirement already satisfied: astunparse>=1.6.0 in /usr/local/lib/python3.10/dist-packages (from tensorflow->-r scripts/requirements.txt (line 19)) (1.6.3)\n",
            "Requirement already satisfied: flatbuffers>=2.0 in /usr/local/lib/python3.10/dist-packages (from tensorflow->-r scripts/requirements.txt (line 19)) (23.3.3)\n",
            "Requirement already satisfied: gast<=0.4.0,>=0.2.1 in /usr/local/lib/python3.10/dist-packages (from tensorflow->-r scripts/requirements.txt (line 19)) (0.4.0)\n",
            "Requirement already satisfied: google-pasta>=0.1.1 in /usr/local/lib/python3.10/dist-packages (from tensorflow->-r scripts/requirements.txt (line 19)) (0.2.0)\n",
            "Requirement already satisfied: grpcio<2.0,>=1.24.3 in /usr/local/lib/python3.10/dist-packages (from tensorflow->-r scripts/requirements.txt (line 19)) (1.54.0)\n",
            "Requirement already satisfied: libclang>=13.0.0 in /usr/local/lib/python3.10/dist-packages (from tensorflow->-r scripts/requirements.txt (line 19)) (16.0.0)\n",
            "Requirement already satisfied: opt-einsum>=2.3.2 in /usr/local/lib/python3.10/dist-packages (from tensorflow->-r scripts/requirements.txt (line 19)) (3.3.0)\n",
            "Requirement already satisfied: protobuf<3.20,>=3.9.2 in /usr/local/lib/python3.10/dist-packages (from tensorflow->-r scripts/requirements.txt (line 19)) (3.19.6)\n",
            "Requirement already satisfied: setuptools in /usr/local/lib/python3.10/dist-packages (from tensorflow->-r scripts/requirements.txt (line 19)) (67.7.2)\n",
            "Requirement already satisfied: tensorboard<2.12,>=2.11 in /usr/local/lib/python3.10/dist-packages (from tensorflow->-r scripts/requirements.txt (line 19)) (2.11.2)\n",
            "Requirement already satisfied: tensorflow-estimator<2.12,>=2.11.0 in /usr/local/lib/python3.10/dist-packages (from tensorflow->-r scripts/requirements.txt (line 19)) (2.11.0)\n",
            "Requirement already satisfied: termcolor>=1.1.0 in /usr/local/lib/python3.10/dist-packages (from tensorflow->-r scripts/requirements.txt (line 19)) (2.3.0)\n",
            "Requirement already satisfied: typing-extensions>=3.6.6 in /usr/local/lib/python3.10/dist-packages (from tensorflow->-r scripts/requirements.txt (line 19)) (4.5.0)\n",
            "Requirement already satisfied: wrapt>=1.11.0 in /usr/local/lib/python3.10/dist-packages (from tensorflow->-r scripts/requirements.txt (line 19)) (1.14.1)\n",
            "Requirement already satisfied: tensorflow-io-gcs-filesystem>=0.23.1 in /usr/local/lib/python3.10/dist-packages (from tensorflow->-r scripts/requirements.txt (line 19)) (0.32.0)\n",
            "Requirement already satisfied: wheel<1.0,>=0.23.0 in /usr/local/lib/python3.10/dist-packages (from astunparse>=1.6.0->tensorflow->-r scripts/requirements.txt (line 19)) (0.40.0)\n",
            "Requirement already satisfied: parso<0.9.0,>=0.8.0 in /usr/local/lib/python3.10/dist-packages (from jedi>=0.16->ipython==8.13.2->-r scripts/requirements.txt (line 3)) (0.8.3)\n",
            "Requirement already satisfied: ptyprocess>=0.5 in /usr/local/lib/python3.10/dist-packages (from pexpect>4.3->ipython==8.13.2->-r scripts/requirements.txt (line 3)) (0.7.0)\n",
            "Requirement already satisfied: wcwidth in /usr/local/lib/python3.10/dist-packages (from prompt-toolkit!=3.0.37,<3.1.0,>=3.0.30->ipython==8.13.2->-r scripts/requirements.txt (line 3)) (0.2.6)\n",
            "Requirement already satisfied: google-auth<3,>=1.6.3 in /usr/local/lib/python3.10/dist-packages (from tensorboard<2.12,>=2.11->tensorflow->-r scripts/requirements.txt (line 19)) (2.17.3)\n",
            "Requirement already satisfied: google-auth-oauthlib<0.5,>=0.4.1 in /usr/local/lib/python3.10/dist-packages (from tensorboard<2.12,>=2.11->tensorflow->-r scripts/requirements.txt (line 19)) (0.4.6)\n",
            "Requirement already satisfied: markdown>=2.6.8 in /usr/local/lib/python3.10/dist-packages (from tensorboard<2.12,>=2.11->tensorflow->-r scripts/requirements.txt (line 19)) (3.4.3)\n",
            "Requirement already satisfied: requests<3,>=2.21.0 in /usr/local/lib/python3.10/dist-packages (from tensorboard<2.12,>=2.11->tensorflow->-r scripts/requirements.txt (line 19)) (2.27.1)\n",
            "Requirement already satisfied: tensorboard-data-server<0.7.0,>=0.6.0 in /usr/local/lib/python3.10/dist-packages (from tensorboard<2.12,>=2.11->tensorflow->-r scripts/requirements.txt (line 19)) (0.6.1)\n",
            "Requirement already satisfied: tensorboard-plugin-wit>=1.6.0 in /usr/local/lib/python3.10/dist-packages (from tensorboard<2.12,>=2.11->tensorflow->-r scripts/requirements.txt (line 19)) (1.8.1)\n",
            "Requirement already satisfied: werkzeug>=1.0.1 in /usr/local/lib/python3.10/dist-packages (from tensorboard<2.12,>=2.11->tensorflow->-r scripts/requirements.txt (line 19)) (2.3.0)\n",
            "Requirement already satisfied: future in /usr/local/lib/python3.10/dist-packages (from uncertainties>=3.0.1->lmfit==1.0.3->-r scripts/requirements.txt (line 5)) (0.18.3)\n",
            "Requirement already satisfied: executing>=1.2.0 in /usr/local/lib/python3.10/dist-packages (from stack-data->ipython==8.13.2->-r scripts/requirements.txt (line 3)) (1.2.0)\n",
            "Requirement already satisfied: asttokens>=2.1.0 in /usr/local/lib/python3.10/dist-packages (from stack-data->ipython==8.13.2->-r scripts/requirements.txt (line 3)) (2.2.1)\n",
            "Requirement already satisfied: pure-eval in /usr/local/lib/python3.10/dist-packages (from stack-data->ipython==8.13.2->-r scripts/requirements.txt (line 3)) (0.2.2)\n",
            "Requirement already satisfied: cachetools<6.0,>=2.0.0 in /usr/local/lib/python3.10/dist-packages (from google-auth<3,>=1.6.3->tensorboard<2.12,>=2.11->tensorflow->-r scripts/requirements.txt (line 19)) (5.3.0)\n",
            "Requirement already satisfied: pyasn1-modules>=0.2.1 in /usr/local/lib/python3.10/dist-packages (from google-auth<3,>=1.6.3->tensorboard<2.12,>=2.11->tensorflow->-r scripts/requirements.txt (line 19)) (0.3.0)\n",
            "Requirement already satisfied: rsa<5,>=3.1.4 in /usr/local/lib/python3.10/dist-packages (from google-auth<3,>=1.6.3->tensorboard<2.12,>=2.11->tensorflow->-r scripts/requirements.txt (line 19)) (4.9)\n",
            "Requirement already satisfied: requests-oauthlib>=0.7.0 in /usr/local/lib/python3.10/dist-packages (from google-auth-oauthlib<0.5,>=0.4.1->tensorboard<2.12,>=2.11->tensorflow->-r scripts/requirements.txt (line 19)) (1.3.1)\n",
            "Requirement already satisfied: urllib3<1.27,>=1.21.1 in /usr/local/lib/python3.10/dist-packages (from requests<3,>=2.21.0->tensorboard<2.12,>=2.11->tensorflow->-r scripts/requirements.txt (line 19)) (1.26.15)\n",
            "Requirement already satisfied: certifi>=2017.4.17 in /usr/local/lib/python3.10/dist-packages (from requests<3,>=2.21.0->tensorboard<2.12,>=2.11->tensorflow->-r scripts/requirements.txt (line 19)) (2022.12.7)\n",
            "Requirement already satisfied: charset-normalizer~=2.0.0 in /usr/local/lib/python3.10/dist-packages (from requests<3,>=2.21.0->tensorboard<2.12,>=2.11->tensorflow->-r scripts/requirements.txt (line 19)) (2.0.12)\n",
            "Requirement already satisfied: idna<4,>=2.5 in /usr/local/lib/python3.10/dist-packages (from requests<3,>=2.21.0->tensorboard<2.12,>=2.11->tensorflow->-r scripts/requirements.txt (line 19)) (3.4)\n",
            "Requirement already satisfied: MarkupSafe>=2.1.1 in /usr/local/lib/python3.10/dist-packages (from werkzeug>=1.0.1->tensorboard<2.12,>=2.11->tensorflow->-r scripts/requirements.txt (line 19)) (2.1.2)\n",
            "Requirement already satisfied: pyasn1<0.6.0,>=0.4.6 in /usr/local/lib/python3.10/dist-packages (from pyasn1-modules>=0.2.1->google-auth<3,>=1.6.3->tensorboard<2.12,>=2.11->tensorflow->-r scripts/requirements.txt (line 19)) (0.5.0)\n",
            "Requirement already satisfied: oauthlib>=3.0.0 in /usr/local/lib/python3.10/dist-packages (from requests-oauthlib>=0.7.0->google-auth-oauthlib<0.5,>=0.4.1->tensorboard<2.12,>=2.11->tensorflow->-r scripts/requirements.txt (line 19)) (3.2.2)\n"
          ]
        }
      ]
    },
    {
      "cell_type": "markdown",
      "source": [
        "# Image Analysis - Test Case (Exocyst Complex)\n",
        "\n",
        "The pipeline will run the '*test*' option to check that everything runs ok.<br>\n",
        "The test is composed by 5 raw images from the dataset used in [Picco et al., 2017](https://www.sciencedirect.com/science/article/pii/S0092867417300521). The test images are located in *test/input/pict_images/*. At the end of the job, you can check the results on *test/output/*: <br>\n",
        "\n",
        "*   *images/* contains the processed images.\n",
        "*   *spots/*: contains the data from spot detection on your PICT images.\n",
        "*   *segmentation/*: contains the segmented images, masks, and contour images.\n",
        "*   *results/*: contains the resulting files from each processing/analysis step\n",
        "*   *figures/*: contains HTML and png files to get track of the detected and selected spots for each image, on each step, as well as the distance distribution for each step. It also contains PDF file with the final distance distribution and params estimates (mu and sigma) <br>"
      ],
      "metadata": {
        "id": "XPve2mc2cXcb"
      }
    },
    {
      "cell_type": "code",
      "source": [
        "%cd scripts\n",
        "!ls"
      ],
      "metadata": {
        "colab": {
          "base_uri": "https://localhost:8080/"
        },
        "id": "HMRCzlracekZ",
        "outputId": "e82eb5f4-b2e5-484a-afa5-bb0ce3119d48"
      },
      "execution_count": null,
      "outputs": [
        {
          "output_type": "stream",
          "name": "stdout",
          "text": [
            "/content/PyF2F-Ruler/scripts/PyF2F-Ruler/scripts\n",
            "calculate_PICT_distances.py  mrcnn\n",
            "custom.py\t\t     options.py\n",
            "detect_beads.py\t\t     requirements.txt\n",
            "gaussian_fit.py\t\t     rnd.py\n",
            "get_results.py\t\t     run_pyf2f.sh\n",
            "kde.py\t\t\t     segmentation_pp.py\n",
            "lle.py\t\t\t     spot_detection_functions.py\n",
            "measure_pict_distances.py\n"
          ]
        }
      ]
    },
    {
      "cell_type": "code",
      "source": [
        "!pip install pims"
      ],
      "metadata": {
        "colab": {
          "base_uri": "https://localhost:8080/"
        },
        "id": "XYeYuArRLK6b",
        "outputId": "3080d91f-491f-47fc-e6b1-b2afcb92e420"
      },
      "execution_count": null,
      "outputs": [
        {
          "output_type": "stream",
          "name": "stdout",
          "text": [
            "Looking in indexes: https://pypi.org/simple, https://us-python.pkg.dev/colab-wheels/public/simple/\n",
            "Requirement already satisfied: pims in /usr/local/lib/python3.10/dist-packages (0.5)\n",
            "Requirement already satisfied: slicerator>=0.9.8 in /usr/local/lib/python3.10/dist-packages (from pims) (1.1.0)\n",
            "Requirement already satisfied: six>=1.8 in /usr/local/lib/python3.10/dist-packages (from pims) (1.16.0)\n",
            "Requirement already satisfied: numpy>=1.7 in /usr/local/lib/python3.10/dist-packages (from pims) (1.21.2)\n"
          ]
        }
      ]
    },
    {
      "cell_type": "code",
      "source": [
        "import os\n",
        "import glob\n",
        "import shutil\n",
        "import sys\n",
        "import time\n",
        "import pandas as pd\n",
        "import numpy as np\n",
        "import trackpy as tp\n",
        "import pims\n",
        "import matplotlib.pyplot as plt\n",
        "import seaborn as sns\n",
        "import plotly.express as px\n",
        "import plotly.graph_objects as go\n",
        "import tkinter as tk\n",
        "from tkinter import filedialog\n",
        "from pymicro.view.vol_utils import compute_affine_transform\n",
        "from matplotlib import rcParams\n",
        "from skimage import io, util\n",
        "from skimage import data\n",
        "from scipy import stats\n",
        "from scipy import spatial"
      ],
      "metadata": {
        "colab": {
          "base_uri": "https://localhost:8080/",
          "height": 703
        },
        "id": "2Ta1axh8i1Jg",
        "outputId": "e839645d-6f1c-4829-9a72-18fd97334fea"
      },
      "execution_count": null,
      "outputs": [
        {
          "output_type": "error",
          "ename": "ImportError",
          "evalue": "ignored",
          "traceback": [
            "\u001b[0;31m---------------------------------------------------------------------------\u001b[0m",
            "\u001b[0;31mImportError\u001b[0m                               Traceback (most recent call last)",
            "Cell \u001b[0;32mIn[8], line 9\u001b[0m\n\u001b[1;32m      7\u001b[0m \u001b[38;5;28;01mimport\u001b[39;00m \u001b[38;5;21;01mnumpy\u001b[39;00m \u001b[38;5;28;01mas\u001b[39;00m \u001b[38;5;21;01mnp\u001b[39;00m\n\u001b[1;32m      8\u001b[0m \u001b[38;5;28;01mimport\u001b[39;00m \u001b[38;5;21;01mtrackpy\u001b[39;00m \u001b[38;5;28;01mas\u001b[39;00m \u001b[38;5;21;01mtp\u001b[39;00m\n\u001b[0;32m----> 9\u001b[0m \u001b[38;5;28;01mimport\u001b[39;00m \u001b[38;5;21;01mpims\u001b[39;00m\n\u001b[1;32m     10\u001b[0m \u001b[38;5;28;01mimport\u001b[39;00m \u001b[38;5;21;01mmatplotlib\u001b[39;00m\u001b[38;5;21;01m.\u001b[39;00m\u001b[38;5;21;01mpyplot\u001b[39;00m \u001b[38;5;28;01mas\u001b[39;00m \u001b[38;5;21;01mplt\u001b[39;00m\n\u001b[1;32m     11\u001b[0m \u001b[38;5;28;01mimport\u001b[39;00m \u001b[38;5;21;01mseaborn\u001b[39;00m \u001b[38;5;28;01mas\u001b[39;00m \u001b[38;5;21;01msns\u001b[39;00m\n",
            "File \u001b[0;32m/usr/local/lib/python3.10/dist-packages/pims/__init__.py:1\u001b[0m\n\u001b[0;32m----> 1\u001b[0m \u001b[38;5;28;01mfrom\u001b[39;00m \u001b[38;5;21;01mpims\u001b[39;00m\u001b[38;5;21;01m.\u001b[39;00m\u001b[38;5;21;01mapi\u001b[39;00m \u001b[38;5;28;01mimport\u001b[39;00m \u001b[38;5;241m*\u001b[39m\n\u001b[1;32m      3\u001b[0m \u001b[38;5;28;01mfrom\u001b[39;00m \u001b[38;5;21;01m.\u001b[39;00m\u001b[38;5;21;01m_version\u001b[39;00m \u001b[38;5;28;01mimport\u001b[39;00m get_versions\n\u001b[1;32m      4\u001b[0m __version__ \u001b[38;5;241m=\u001b[39m get_versions()[\u001b[38;5;124m'\u001b[39m\u001b[38;5;124mversion\u001b[39m\u001b[38;5;124m'\u001b[39m]\n",
            "File \u001b[0;32m/usr/local/lib/python3.10/dist-packages/pims/api.py:19\u001b[0m\n\u001b[1;32m     17\u001b[0m \u001b[38;5;28;01mfrom\u001b[39;00m \u001b[38;5;21;01mpims\u001b[39;00m\u001b[38;5;21;01m.\u001b[39;00m\u001b[38;5;21;01mimage_sequence\u001b[39;00m \u001b[38;5;28;01mimport\u001b[39;00m ImageSequence, ImageSequenceND, ReaderSequence  \u001b[38;5;66;03m# noqa\u001b[39;00m\n\u001b[1;32m     18\u001b[0m \u001b[38;5;28;01mfrom\u001b[39;00m \u001b[38;5;21;01mpims\u001b[39;00m\u001b[38;5;21;01m.\u001b[39;00m\u001b[38;5;21;01mimage_reader\u001b[39;00m \u001b[38;5;28;01mimport\u001b[39;00m ImageReader, ImageReaderND  \u001b[38;5;66;03m# noqa\u001b[39;00m\n\u001b[0;32m---> 19\u001b[0m \u001b[38;5;28;01mfrom\u001b[39;00m \u001b[38;5;21;01m.\u001b[39;00m\u001b[38;5;21;01mcine\u001b[39;00m \u001b[38;5;28;01mimport\u001b[39;00m Cine  \u001b[38;5;66;03m# noqa\u001b[39;00m\n\u001b[1;32m     20\u001b[0m \u001b[38;5;28;01mfrom\u001b[39;00m \u001b[38;5;21;01m.\u001b[39;00m\u001b[38;5;21;01mnorpix_reader\u001b[39;00m \u001b[38;5;28;01mimport\u001b[39;00m NorpixSeq  \u001b[38;5;66;03m# noqa\u001b[39;00m\n\u001b[1;32m     21\u001b[0m \u001b[38;5;28;01mfrom\u001b[39;00m \u001b[38;5;21;01mpims\u001b[39;00m\u001b[38;5;21;01m.\u001b[39;00m\u001b[38;5;21;01mtiff_stack\u001b[39;00m \u001b[38;5;28;01mimport\u001b[39;00m TiffStack_tifffile  \u001b[38;5;66;03m# noqa\u001b[39;00m\n",
            "File \u001b[0;32m/usr/local/lib/python3.10/dist-packages/pims/cine.py:29\u001b[0m\n\u001b[1;32m     27\u001b[0m \u001b[38;5;28;01mimport\u001b[39;00m \u001b[38;5;21;01msys\u001b[39;00m\n\u001b[1;32m     28\u001b[0m \u001b[38;5;28;01mimport\u001b[39;00m \u001b[38;5;21;01mwarnings\u001b[39;00m\n\u001b[0;32m---> 29\u001b[0m \u001b[38;5;28;01mfrom\u001b[39;00m \u001b[38;5;21;01mcollections\u001b[39;00m \u001b[38;5;28;01mimport\u001b[39;00m Iterable\n\u001b[1;32m     31\u001b[0m __all__ \u001b[38;5;241m=\u001b[39m (\u001b[38;5;124m'\u001b[39m\u001b[38;5;124mCine\u001b[39m\u001b[38;5;124m'\u001b[39m, )\n\u001b[1;32m     34\u001b[0m \u001b[38;5;66;03m# '<' for little endian (cine documentation)\u001b[39;00m\n",
            "\u001b[0;31mImportError\u001b[0m: cannot import name 'Iterable' from 'collections' (/usr/lib/python3.10/collections/__init__.py)",
            "",
            "\u001b[0;31m---------------------------------------------------------------------------\u001b[0;32m\nNOTE: If your import is failing due to a missing package, you can\nmanually install dependencies using either !pip or !apt.\n\nTo view examples of installing some common dependencies, click the\n\"Open Examples\" button below.\n\u001b[0;31m---------------------------------------------------------------------------\u001b[0m\n"
          ],
          "errorDetails": {
            "actions": [
              {
                "action": "open_url",
                "actionText": "Open Examples",
                "url": "/notebooks/snippets/importing_libraries.ipynb"
              }
            ]
          }
        }
      ]
    },
    {
      "cell_type": "code",
      "source": [],
      "metadata": {
        "id": "mUKsLNKlJecc"
      },
      "execution_count": null,
      "outputs": []
    }
  ]
}